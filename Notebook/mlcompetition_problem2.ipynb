{
  "nbformat": 4,
  "nbformat_minor": 0,
  "metadata": {
    "kernelspec": {
      "language": "python",
      "display_name": "Python 3",
      "name": "python3"
    },
    "language_info": {
      "pygments_lexer": "ipython3",
      "nbconvert_exporter": "python",
      "version": "3.6.4",
      "file_extension": ".py",
      "codemirror_mode": {
        "name": "ipython",
        "version": 3
      },
      "name": "python",
      "mimetype": "text/x-python"
    },
    "colab": {
      "name": "mlcompetition-problem2.ipynb",
      "provenance": [],
      "collapsed_sections": [
        "iGnv2vfsIens",
        "fF7TjKpxIqaO",
        "TY7Mo40YK3Q5",
        "6RaL-p3AK5lp",
        "EdfPQjlVK9rJ",
        "b7vnpAGNK_ua",
        "nw-0wnp5L7ze",
        "lEAlh29oSL6g",
        "-Hf2Aa0qPGtF",
        "lv8qzQY2C_7U",
        "iHbxpyZwi9BK",
        "hVcmn1uNjAru",
        "gsMg1xDCjkBy",
        "JOnGYAB4kNlO",
        "CXDCzYb9vkQM",
        "7wtO-8XmyqrO",
        "oaOVptvyy7Zv",
        "aOzS5rsf1_r6",
        "nte3NvOHCdxa",
        "Z7fGa0gEG_zf"
      ]
    }
  },
  "cells": [
    {
      "cell_type": "markdown",
      "metadata": {
        "id": "iGnv2vfsIens"
      },
      "source": [
        "# Importing data and libraries"
      ]
    },
    {
      "cell_type": "code",
      "metadata": {
        "id": "38g5pBmU1nO9",
        "trusted": true
      },
      "source": [
        "import numpy as np\n",
        "import pandas as pd\n",
        "import matplotlib.pyplot as plt\n",
        "import seaborn as sns\n",
        "%matplotlib inline"
      ],
      "execution_count": 20,
      "outputs": []
    },
    {
      "cell_type": "code",
      "metadata": {
        "colab": {
          "base_uri": "https://localhost:8080/"
        },
        "id": "9nWh_PPYDfmv",
        "outputId": "826b2fee-9ea0-4699-d1ea-9d2056b8836a"
      },
      "source": [
        "from google.colab import drive\n",
        "drive.mount('/gdrive')"
      ],
      "execution_count": 21,
      "outputs": [
        {
          "output_type": "stream",
          "text": [
            "Drive already mounted at /gdrive; to attempt to forcibly remount, call drive.mount(\"/gdrive\", force_remount=True).\n"
          ],
          "name": "stdout"
        }
      ]
    },
    {
      "cell_type": "markdown",
      "metadata": {
        "id": "WefYreZsSHhB"
      },
      "source": [
        "Importing data sets, where i imported test data two times for two variables, one for prediction and another for final csv creation."
      ]
    },
    {
      "cell_type": "code",
      "metadata": {
        "id": "ucUbsaKU19GP",
        "trusted": true,
        "colab": {
          "base_uri": "https://localhost:8080/",
          "height": 357
        },
        "outputId": "45f2f758-c649-48b7-98b1-a79c39112152"
      },
      "source": [
        "path = \"/gdrive/My Drive/Data/MLComp/\"\n",
        "data = pd.read_csv(path+\"final.csv\",index_col=False)\n",
        "data_test=pd.read_csv(path+\"Test.csv\",index_col=False)\n",
        "Z=pd.read_csv(path+\"Test.csv\",index_col=False)\n",
        "data.head(10)"
      ],
      "execution_count": 22,
      "outputs": [
        {
          "output_type": "execute_result",
          "data": {
            "text/html": [
              "<div>\n",
              "<style scoped>\n",
              "    .dataframe tbody tr th:only-of-type {\n",
              "        vertical-align: middle;\n",
              "    }\n",
              "\n",
              "    .dataframe tbody tr th {\n",
              "        vertical-align: top;\n",
              "    }\n",
              "\n",
              "    .dataframe thead th {\n",
              "        text-align: right;\n",
              "    }\n",
              "</style>\n",
              "<table border=\"1\" class=\"dataframe\">\n",
              "  <thead>\n",
              "    <tr style=\"text-align: right;\">\n",
              "      <th></th>\n",
              "      <th>ID</th>\n",
              "      <th>age</th>\n",
              "      <th>sex</th>\n",
              "      <th>cp</th>\n",
              "      <th>trestbps</th>\n",
              "      <th>chol</th>\n",
              "      <th>fbs</th>\n",
              "      <th>restecg</th>\n",
              "      <th>thalach</th>\n",
              "      <th>exang</th>\n",
              "      <th>oldpeak</th>\n",
              "      <th>slope</th>\n",
              "      <th>ca</th>\n",
              "      <th>thal</th>\n",
              "      <th>target</th>\n",
              "    </tr>\n",
              "  </thead>\n",
              "  <tbody>\n",
              "    <tr>\n",
              "      <th>0</th>\n",
              "      <td>29</td>\n",
              "      <td>65</td>\n",
              "      <td>0</td>\n",
              "      <td>2</td>\n",
              "      <td>140</td>\n",
              "      <td>417</td>\n",
              "      <td>1</td>\n",
              "      <td>0</td>\n",
              "      <td>157</td>\n",
              "      <td>0</td>\n",
              "      <td>0.8</td>\n",
              "      <td>2</td>\n",
              "      <td>1</td>\n",
              "      <td>2</td>\n",
              "      <td>1</td>\n",
              "    </tr>\n",
              "    <tr>\n",
              "      <th>1</th>\n",
              "      <td>57</td>\n",
              "      <td>48</td>\n",
              "      <td>1</td>\n",
              "      <td>0</td>\n",
              "      <td>122</td>\n",
              "      <td>222</td>\n",
              "      <td>0</td>\n",
              "      <td>0</td>\n",
              "      <td>186</td>\n",
              "      <td>0</td>\n",
              "      <td>0.0</td>\n",
              "      <td>2</td>\n",
              "      <td>0</td>\n",
              "      <td>2</td>\n",
              "      <td>1</td>\n",
              "    </tr>\n",
              "    <tr>\n",
              "      <th>2</th>\n",
              "      <td>9</td>\n",
              "      <td>52</td>\n",
              "      <td>1</td>\n",
              "      <td>2</td>\n",
              "      <td>172</td>\n",
              "      <td>199</td>\n",
              "      <td>1</td>\n",
              "      <td>1</td>\n",
              "      <td>162</td>\n",
              "      <td>0</td>\n",
              "      <td>0.5</td>\n",
              "      <td>2</td>\n",
              "      <td>0</td>\n",
              "      <td>3</td>\n",
              "      <td>1</td>\n",
              "    </tr>\n",
              "    <tr>\n",
              "      <th>3</th>\n",
              "      <td>147</td>\n",
              "      <td>44</td>\n",
              "      <td>0</td>\n",
              "      <td>2</td>\n",
              "      <td>118</td>\n",
              "      <td>242</td>\n",
              "      <td>0</td>\n",
              "      <td>1</td>\n",
              "      <td>149</td>\n",
              "      <td>0</td>\n",
              "      <td>0.3</td>\n",
              "      <td>1</td>\n",
              "      <td>1</td>\n",
              "      <td>2</td>\n",
              "      <td>1</td>\n",
              "    </tr>\n",
              "    <tr>\n",
              "      <th>4</th>\n",
              "      <td>303</td>\n",
              "      <td>57</td>\n",
              "      <td>0</td>\n",
              "      <td>1</td>\n",
              "      <td>130</td>\n",
              "      <td>236</td>\n",
              "      <td>0</td>\n",
              "      <td>0</td>\n",
              "      <td>174</td>\n",
              "      <td>0</td>\n",
              "      <td>0.0</td>\n",
              "      <td>1</td>\n",
              "      <td>1</td>\n",
              "      <td>2</td>\n",
              "      <td>0</td>\n",
              "    </tr>\n",
              "    <tr>\n",
              "      <th>5</th>\n",
              "      <td>65</td>\n",
              "      <td>58</td>\n",
              "      <td>1</td>\n",
              "      <td>2</td>\n",
              "      <td>140</td>\n",
              "      <td>211</td>\n",
              "      <td>1</td>\n",
              "      <td>0</td>\n",
              "      <td>165</td>\n",
              "      <td>0</td>\n",
              "      <td>0.0</td>\n",
              "      <td>2</td>\n",
              "      <td>0</td>\n",
              "      <td>2</td>\n",
              "      <td>1</td>\n",
              "    </tr>\n",
              "    <tr>\n",
              "      <th>6</th>\n",
              "      <td>179</td>\n",
              "      <td>43</td>\n",
              "      <td>1</td>\n",
              "      <td>0</td>\n",
              "      <td>120</td>\n",
              "      <td>177</td>\n",
              "      <td>0</td>\n",
              "      <td>0</td>\n",
              "      <td>120</td>\n",
              "      <td>1</td>\n",
              "      <td>2.5</td>\n",
              "      <td>1</td>\n",
              "      <td>0</td>\n",
              "      <td>3</td>\n",
              "      <td>0</td>\n",
              "    </tr>\n",
              "    <tr>\n",
              "      <th>7</th>\n",
              "      <td>243</td>\n",
              "      <td>64</td>\n",
              "      <td>1</td>\n",
              "      <td>0</td>\n",
              "      <td>145</td>\n",
              "      <td>212</td>\n",
              "      <td>0</td>\n",
              "      <td>0</td>\n",
              "      <td>132</td>\n",
              "      <td>0</td>\n",
              "      <td>2.0</td>\n",
              "      <td>1</td>\n",
              "      <td>2</td>\n",
              "      <td>1</td>\n",
              "      <td>0</td>\n",
              "    </tr>\n",
              "    <tr>\n",
              "      <th>8</th>\n",
              "      <td>126</td>\n",
              "      <td>34</td>\n",
              "      <td>0</td>\n",
              "      <td>1</td>\n",
              "      <td>118</td>\n",
              "      <td>210</td>\n",
              "      <td>0</td>\n",
              "      <td>1</td>\n",
              "      <td>192</td>\n",
              "      <td>0</td>\n",
              "      <td>0.7</td>\n",
              "      <td>2</td>\n",
              "      <td>0</td>\n",
              "      <td>2</td>\n",
              "      <td>1</td>\n",
              "    </tr>\n",
              "    <tr>\n",
              "      <th>9</th>\n",
              "      <td>94</td>\n",
              "      <td>54</td>\n",
              "      <td>0</td>\n",
              "      <td>1</td>\n",
              "      <td>132</td>\n",
              "      <td>288</td>\n",
              "      <td>1</td>\n",
              "      <td>0</td>\n",
              "      <td>159</td>\n",
              "      <td>1</td>\n",
              "      <td>0.0</td>\n",
              "      <td>2</td>\n",
              "      <td>1</td>\n",
              "      <td>2</td>\n",
              "      <td>1</td>\n",
              "    </tr>\n",
              "  </tbody>\n",
              "</table>\n",
              "</div>"
            ],
            "text/plain": [
              "    ID  age  sex  cp  trestbps  chol  ...  exang  oldpeak  slope  ca  thal  target\n",
              "0   29   65    0   2       140   417  ...      0      0.8      2   1     2       1\n",
              "1   57   48    1   0       122   222  ...      0      0.0      2   0     2       1\n",
              "2    9   52    1   2       172   199  ...      0      0.5      2   0     3       1\n",
              "3  147   44    0   2       118   242  ...      0      0.3      1   1     2       1\n",
              "4  303   57    0   1       130   236  ...      0      0.0      1   1     2       0\n",
              "5   65   58    1   2       140   211  ...      0      0.0      2   0     2       1\n",
              "6  179   43    1   0       120   177  ...      1      2.5      1   0     3       0\n",
              "7  243   64    1   0       145   212  ...      0      2.0      1   2     1       0\n",
              "8  126   34    0   1       118   210  ...      0      0.7      2   0     2       1\n",
              "9   94   54    0   1       132   288  ...      1      0.0      2   1     2       1\n",
              "\n",
              "[10 rows x 15 columns]"
            ]
          },
          "metadata": {
            "tags": []
          },
          "execution_count": 22
        }
      ]
    },
    {
      "cell_type": "markdown",
      "metadata": {
        "id": "fF7TjKpxIqaO"
      },
      "source": [
        "# Knowing the train data"
      ]
    },
    {
      "cell_type": "code",
      "metadata": {
        "id": "8qp-uuIVIWxU",
        "trusted": true,
        "colab": {
          "base_uri": "https://localhost:8080/",
          "height": 357
        },
        "outputId": "0cfe3d9a-6e30-4bb4-ffc0-1bea85fac8b4"
      },
      "source": [
        "Z.head(10)"
      ],
      "execution_count": 23,
      "outputs": [
        {
          "output_type": "execute_result",
          "data": {
            "text/html": [
              "<div>\n",
              "<style scoped>\n",
              "    .dataframe tbody tr th:only-of-type {\n",
              "        vertical-align: middle;\n",
              "    }\n",
              "\n",
              "    .dataframe tbody tr th {\n",
              "        vertical-align: top;\n",
              "    }\n",
              "\n",
              "    .dataframe thead th {\n",
              "        text-align: right;\n",
              "    }\n",
              "</style>\n",
              "<table border=\"1\" class=\"dataframe\">\n",
              "  <thead>\n",
              "    <tr style=\"text-align: right;\">\n",
              "      <th></th>\n",
              "      <th>ID</th>\n",
              "      <th>age</th>\n",
              "      <th>sex</th>\n",
              "      <th>cp</th>\n",
              "      <th>trestbps</th>\n",
              "      <th>chol</th>\n",
              "      <th>fbs</th>\n",
              "      <th>restecg</th>\n",
              "      <th>thalach</th>\n",
              "      <th>exang</th>\n",
              "      <th>oldpeak</th>\n",
              "      <th>slope</th>\n",
              "      <th>ca</th>\n",
              "      <th>thal</th>\n",
              "    </tr>\n",
              "  </thead>\n",
              "  <tbody>\n",
              "    <tr>\n",
              "      <th>0</th>\n",
              "      <td>128</td>\n",
              "      <td>67</td>\n",
              "      <td>0</td>\n",
              "      <td>2</td>\n",
              "      <td>152</td>\n",
              "      <td>277</td>\n",
              "      <td>0</td>\n",
              "      <td>1</td>\n",
              "      <td>172</td>\n",
              "      <td>0</td>\n",
              "      <td>0.0</td>\n",
              "      <td>2</td>\n",
              "      <td>1</td>\n",
              "      <td>2</td>\n",
              "    </tr>\n",
              "    <tr>\n",
              "      <th>1</th>\n",
              "      <td>232</td>\n",
              "      <td>57</td>\n",
              "      <td>1</td>\n",
              "      <td>0</td>\n",
              "      <td>165</td>\n",
              "      <td>289</td>\n",
              "      <td>1</td>\n",
              "      <td>0</td>\n",
              "      <td>124</td>\n",
              "      <td>0</td>\n",
              "      <td>1.0</td>\n",
              "      <td>1</td>\n",
              "      <td>3</td>\n",
              "      <td>3</td>\n",
              "    </tr>\n",
              "    <tr>\n",
              "      <th>2</th>\n",
              "      <td>220</td>\n",
              "      <td>48</td>\n",
              "      <td>1</td>\n",
              "      <td>0</td>\n",
              "      <td>130</td>\n",
              "      <td>256</td>\n",
              "      <td>1</td>\n",
              "      <td>0</td>\n",
              "      <td>150</td>\n",
              "      <td>1</td>\n",
              "      <td>0.0</td>\n",
              "      <td>2</td>\n",
              "      <td>2</td>\n",
              "      <td>3</td>\n",
              "    </tr>\n",
              "    <tr>\n",
              "      <th>3</th>\n",
              "      <td>184</td>\n",
              "      <td>58</td>\n",
              "      <td>1</td>\n",
              "      <td>2</td>\n",
              "      <td>112</td>\n",
              "      <td>230</td>\n",
              "      <td>0</td>\n",
              "      <td>0</td>\n",
              "      <td>165</td>\n",
              "      <td>0</td>\n",
              "      <td>2.5</td>\n",
              "      <td>1</td>\n",
              "      <td>1</td>\n",
              "      <td>3</td>\n",
              "    </tr>\n",
              "    <tr>\n",
              "      <th>4</th>\n",
              "      <td>25</td>\n",
              "      <td>40</td>\n",
              "      <td>1</td>\n",
              "      <td>3</td>\n",
              "      <td>140</td>\n",
              "      <td>199</td>\n",
              "      <td>0</td>\n",
              "      <td>1</td>\n",
              "      <td>178</td>\n",
              "      <td>1</td>\n",
              "      <td>1.4</td>\n",
              "      <td>2</td>\n",
              "      <td>0</td>\n",
              "      <td>3</td>\n",
              "    </tr>\n",
              "    <tr>\n",
              "      <th>5</th>\n",
              "      <td>56</td>\n",
              "      <td>52</td>\n",
              "      <td>1</td>\n",
              "      <td>1</td>\n",
              "      <td>134</td>\n",
              "      <td>201</td>\n",
              "      <td>0</td>\n",
              "      <td>1</td>\n",
              "      <td>158</td>\n",
              "      <td>0</td>\n",
              "      <td>0.8</td>\n",
              "      <td>2</td>\n",
              "      <td>1</td>\n",
              "      <td>2</td>\n",
              "    </tr>\n",
              "    <tr>\n",
              "      <th>6</th>\n",
              "      <td>28</td>\n",
              "      <td>51</td>\n",
              "      <td>1</td>\n",
              "      <td>2</td>\n",
              "      <td>110</td>\n",
              "      <td>175</td>\n",
              "      <td>0</td>\n",
              "      <td>1</td>\n",
              "      <td>123</td>\n",
              "      <td>0</td>\n",
              "      <td>0.6</td>\n",
              "      <td>2</td>\n",
              "      <td>0</td>\n",
              "      <td>2</td>\n",
              "    </tr>\n",
              "    <tr>\n",
              "      <th>7</th>\n",
              "      <td>125</td>\n",
              "      <td>39</td>\n",
              "      <td>0</td>\n",
              "      <td>2</td>\n",
              "      <td>94</td>\n",
              "      <td>199</td>\n",
              "      <td>0</td>\n",
              "      <td>1</td>\n",
              "      <td>179</td>\n",
              "      <td>0</td>\n",
              "      <td>0.0</td>\n",
              "      <td>2</td>\n",
              "      <td>0</td>\n",
              "      <td>2</td>\n",
              "    </tr>\n",
              "    <tr>\n",
              "      <th>8</th>\n",
              "      <td>139</td>\n",
              "      <td>57</td>\n",
              "      <td>1</td>\n",
              "      <td>0</td>\n",
              "      <td>110</td>\n",
              "      <td>201</td>\n",
              "      <td>0</td>\n",
              "      <td>1</td>\n",
              "      <td>126</td>\n",
              "      <td>1</td>\n",
              "      <td>1.5</td>\n",
              "      <td>1</td>\n",
              "      <td>0</td>\n",
              "      <td>1</td>\n",
              "    </tr>\n",
              "    <tr>\n",
              "      <th>9</th>\n",
              "      <td>67</td>\n",
              "      <td>51</td>\n",
              "      <td>1</td>\n",
              "      <td>2</td>\n",
              "      <td>100</td>\n",
              "      <td>222</td>\n",
              "      <td>0</td>\n",
              "      <td>1</td>\n",
              "      <td>143</td>\n",
              "      <td>1</td>\n",
              "      <td>1.2</td>\n",
              "      <td>1</td>\n",
              "      <td>0</td>\n",
              "      <td>2</td>\n",
              "    </tr>\n",
              "  </tbody>\n",
              "</table>\n",
              "</div>"
            ],
            "text/plain": [
              "    ID  age  sex  cp  trestbps  chol  ...  thalach  exang  oldpeak  slope  ca  thal\n",
              "0  128   67    0   2       152   277  ...      172      0      0.0      2   1     2\n",
              "1  232   57    1   0       165   289  ...      124      0      1.0      1   3     3\n",
              "2  220   48    1   0       130   256  ...      150      1      0.0      2   2     3\n",
              "3  184   58    1   2       112   230  ...      165      0      2.5      1   1     3\n",
              "4   25   40    1   3       140   199  ...      178      1      1.4      2   0     3\n",
              "5   56   52    1   1       134   201  ...      158      0      0.8      2   1     2\n",
              "6   28   51    1   2       110   175  ...      123      0      0.6      2   0     2\n",
              "7  125   39    0   2        94   199  ...      179      0      0.0      2   0     2\n",
              "8  139   57    1   0       110   201  ...      126      1      1.5      1   0     1\n",
              "9   67   51    1   2       100   222  ...      143      1      1.2      1   0     2\n",
              "\n",
              "[10 rows x 14 columns]"
            ]
          },
          "metadata": {
            "tags": []
          },
          "execution_count": 23
        }
      ]
    },
    {
      "cell_type": "code",
      "metadata": {
        "id": "E5eyA7kS2Y8-",
        "trusted": true,
        "colab": {
          "base_uri": "https://localhost:8080/"
        },
        "outputId": "03f34710-25b4-4687-9ba9-e806e6f59fb1"
      },
      "source": [
        "data.shape"
      ],
      "execution_count": 24,
      "outputs": [
        {
          "output_type": "execute_result",
          "data": {
            "text/plain": [
              "(253, 15)"
            ]
          },
          "metadata": {
            "tags": []
          },
          "execution_count": 24
        }
      ]
    },
    {
      "cell_type": "code",
      "metadata": {
        "id": "UecQRi6t2gyM",
        "trusted": true,
        "colab": {
          "base_uri": "https://localhost:8080/",
          "height": 295
        },
        "outputId": "39b03e78-3c3f-4086-8391-6d5d4da0f69e"
      },
      "source": [
        "data.describe()"
      ],
      "execution_count": 25,
      "outputs": [
        {
          "output_type": "execute_result",
          "data": {
            "text/html": [
              "<div>\n",
              "<style scoped>\n",
              "    .dataframe tbody tr th:only-of-type {\n",
              "        vertical-align: middle;\n",
              "    }\n",
              "\n",
              "    .dataframe tbody tr th {\n",
              "        vertical-align: top;\n",
              "    }\n",
              "\n",
              "    .dataframe thead th {\n",
              "        text-align: right;\n",
              "    }\n",
              "</style>\n",
              "<table border=\"1\" class=\"dataframe\">\n",
              "  <thead>\n",
              "    <tr style=\"text-align: right;\">\n",
              "      <th></th>\n",
              "      <th>ID</th>\n",
              "      <th>age</th>\n",
              "      <th>sex</th>\n",
              "      <th>cp</th>\n",
              "      <th>trestbps</th>\n",
              "      <th>chol</th>\n",
              "      <th>fbs</th>\n",
              "      <th>restecg</th>\n",
              "      <th>thalach</th>\n",
              "      <th>exang</th>\n",
              "      <th>oldpeak</th>\n",
              "      <th>slope</th>\n",
              "      <th>ca</th>\n",
              "      <th>thal</th>\n",
              "      <th>target</th>\n",
              "    </tr>\n",
              "  </thead>\n",
              "  <tbody>\n",
              "    <tr>\n",
              "      <th>count</th>\n",
              "      <td>253.000000</td>\n",
              "      <td>253.000000</td>\n",
              "      <td>253.000000</td>\n",
              "      <td>253.000000</td>\n",
              "      <td>253.000000</td>\n",
              "      <td>253.000000</td>\n",
              "      <td>253.000000</td>\n",
              "      <td>253.000000</td>\n",
              "      <td>253.000000</td>\n",
              "      <td>253.000000</td>\n",
              "      <td>253.000000</td>\n",
              "      <td>253.000000</td>\n",
              "      <td>253.000000</td>\n",
              "      <td>253.000000</td>\n",
              "      <td>253.000000</td>\n",
              "    </tr>\n",
              "    <tr>\n",
              "      <th>mean</th>\n",
              "      <td>153.339921</td>\n",
              "      <td>53.976285</td>\n",
              "      <td>0.683794</td>\n",
              "      <td>0.980237</td>\n",
              "      <td>131.822134</td>\n",
              "      <td>245.051383</td>\n",
              "      <td>0.138340</td>\n",
              "      <td>0.509881</td>\n",
              "      <td>150.260870</td>\n",
              "      <td>0.332016</td>\n",
              "      <td>1.037945</td>\n",
              "      <td>1.399209</td>\n",
              "      <td>0.691700</td>\n",
              "      <td>2.312253</td>\n",
              "      <td>0.541502</td>\n",
              "    </tr>\n",
              "    <tr>\n",
              "      <th>std</th>\n",
              "      <td>88.442134</td>\n",
              "      <td>9.156890</td>\n",
              "      <td>0.465916</td>\n",
              "      <td>1.032990</td>\n",
              "      <td>17.288518</td>\n",
              "      <td>52.583053</td>\n",
              "      <td>0.345941</td>\n",
              "      <td>0.524122</td>\n",
              "      <td>22.538924</td>\n",
              "      <td>0.471870</td>\n",
              "      <td>1.163799</td>\n",
              "      <td>0.612955</td>\n",
              "      <td>1.011742</td>\n",
              "      <td>0.618280</td>\n",
              "      <td>0.499262</td>\n",
              "    </tr>\n",
              "    <tr>\n",
              "      <th>min</th>\n",
              "      <td>1.000000</td>\n",
              "      <td>29.000000</td>\n",
              "      <td>0.000000</td>\n",
              "      <td>0.000000</td>\n",
              "      <td>94.000000</td>\n",
              "      <td>126.000000</td>\n",
              "      <td>0.000000</td>\n",
              "      <td>0.000000</td>\n",
              "      <td>90.000000</td>\n",
              "      <td>0.000000</td>\n",
              "      <td>0.000000</td>\n",
              "      <td>0.000000</td>\n",
              "      <td>0.000000</td>\n",
              "      <td>0.000000</td>\n",
              "      <td>0.000000</td>\n",
              "    </tr>\n",
              "    <tr>\n",
              "      <th>25%</th>\n",
              "      <td>78.000000</td>\n",
              "      <td>47.000000</td>\n",
              "      <td>0.000000</td>\n",
              "      <td>0.000000</td>\n",
              "      <td>120.000000</td>\n",
              "      <td>210.000000</td>\n",
              "      <td>0.000000</td>\n",
              "      <td>0.000000</td>\n",
              "      <td>134.000000</td>\n",
              "      <td>0.000000</td>\n",
              "      <td>0.000000</td>\n",
              "      <td>1.000000</td>\n",
              "      <td>0.000000</td>\n",
              "      <td>2.000000</td>\n",
              "      <td>0.000000</td>\n",
              "    </tr>\n",
              "    <tr>\n",
              "      <th>50%</th>\n",
              "      <td>152.000000</td>\n",
              "      <td>55.000000</td>\n",
              "      <td>1.000000</td>\n",
              "      <td>1.000000</td>\n",
              "      <td>130.000000</td>\n",
              "      <td>239.000000</td>\n",
              "      <td>0.000000</td>\n",
              "      <td>0.000000</td>\n",
              "      <td>154.000000</td>\n",
              "      <td>0.000000</td>\n",
              "      <td>0.700000</td>\n",
              "      <td>1.000000</td>\n",
              "      <td>0.000000</td>\n",
              "      <td>2.000000</td>\n",
              "      <td>1.000000</td>\n",
              "    </tr>\n",
              "    <tr>\n",
              "      <th>75%</th>\n",
              "      <td>230.000000</td>\n",
              "      <td>60.000000</td>\n",
              "      <td>1.000000</td>\n",
              "      <td>2.000000</td>\n",
              "      <td>140.000000</td>\n",
              "      <td>271.000000</td>\n",
              "      <td>0.000000</td>\n",
              "      <td>1.000000</td>\n",
              "      <td>166.000000</td>\n",
              "      <td>1.000000</td>\n",
              "      <td>1.600000</td>\n",
              "      <td>2.000000</td>\n",
              "      <td>1.000000</td>\n",
              "      <td>3.000000</td>\n",
              "      <td>1.000000</td>\n",
              "    </tr>\n",
              "    <tr>\n",
              "      <th>max</th>\n",
              "      <td>303.000000</td>\n",
              "      <td>77.000000</td>\n",
              "      <td>1.000000</td>\n",
              "      <td>3.000000</td>\n",
              "      <td>200.000000</td>\n",
              "      <td>564.000000</td>\n",
              "      <td>1.000000</td>\n",
              "      <td>2.000000</td>\n",
              "      <td>202.000000</td>\n",
              "      <td>1.000000</td>\n",
              "      <td>6.200000</td>\n",
              "      <td>2.000000</td>\n",
              "      <td>4.000000</td>\n",
              "      <td>3.000000</td>\n",
              "      <td>1.000000</td>\n",
              "    </tr>\n",
              "  </tbody>\n",
              "</table>\n",
              "</div>"
            ],
            "text/plain": [
              "               ID         age         sex  ...          ca        thal      target\n",
              "count  253.000000  253.000000  253.000000  ...  253.000000  253.000000  253.000000\n",
              "mean   153.339921   53.976285    0.683794  ...    0.691700    2.312253    0.541502\n",
              "std     88.442134    9.156890    0.465916  ...    1.011742    0.618280    0.499262\n",
              "min      1.000000   29.000000    0.000000  ...    0.000000    0.000000    0.000000\n",
              "25%     78.000000   47.000000    0.000000  ...    0.000000    2.000000    0.000000\n",
              "50%    152.000000   55.000000    1.000000  ...    0.000000    2.000000    1.000000\n",
              "75%    230.000000   60.000000    1.000000  ...    1.000000    3.000000    1.000000\n",
              "max    303.000000   77.000000    1.000000  ...    4.000000    3.000000    1.000000\n",
              "\n",
              "[8 rows x 15 columns]"
            ]
          },
          "metadata": {
            "tags": []
          },
          "execution_count": 25
        }
      ]
    },
    {
      "cell_type": "code",
      "metadata": {
        "id": "lu5_5jVl2kD8",
        "trusted": true,
        "colab": {
          "base_uri": "https://localhost:8080/"
        },
        "outputId": "f6096cf9-299d-439c-b620-59cd2895a2fa"
      },
      "source": [
        "data.isnull().sum(axis=0)"
      ],
      "execution_count": 26,
      "outputs": [
        {
          "output_type": "execute_result",
          "data": {
            "text/plain": [
              "ID          0\n",
              "age         0\n",
              "sex         0\n",
              "cp          0\n",
              "trestbps    0\n",
              "chol        0\n",
              "fbs         0\n",
              "restecg     0\n",
              "thalach     0\n",
              "exang       0\n",
              "oldpeak     0\n",
              "slope       0\n",
              "ca          0\n",
              "thal        0\n",
              "target      0\n",
              "dtype: int64"
            ]
          },
          "metadata": {
            "tags": []
          },
          "execution_count": 26
        }
      ]
    },
    {
      "cell_type": "code",
      "metadata": {
        "id": "9l-MMp772m1_",
        "trusted": true,
        "colab": {
          "base_uri": "https://localhost:8080/"
        },
        "outputId": "8616d030-407d-4953-e558-0c4ccebbcf9c"
      },
      "source": [
        "data.columns"
      ],
      "execution_count": 27,
      "outputs": [
        {
          "output_type": "execute_result",
          "data": {
            "text/plain": [
              "Index(['ID', 'age', 'sex', 'cp', 'trestbps', 'chol', 'fbs', 'restecg',\n",
              "       'thalach', 'exang', 'oldpeak', 'slope', 'ca', 'thal', 'target'],\n",
              "      dtype='object')"
            ]
          },
          "metadata": {
            "tags": []
          },
          "execution_count": 27
        }
      ]
    },
    {
      "cell_type": "code",
      "metadata": {
        "id": "4lPL4NYF2q45",
        "trusted": true,
        "colab": {
          "base_uri": "https://localhost:8080/"
        },
        "outputId": "8629194a-c3b0-4012-eb02-6afafece2f49"
      },
      "source": [
        "data.dtypes"
      ],
      "execution_count": 28,
      "outputs": [
        {
          "output_type": "execute_result",
          "data": {
            "text/plain": [
              "ID            int64\n",
              "age           int64\n",
              "sex           int64\n",
              "cp            int64\n",
              "trestbps      int64\n",
              "chol          int64\n",
              "fbs           int64\n",
              "restecg       int64\n",
              "thalach       int64\n",
              "exang         int64\n",
              "oldpeak     float64\n",
              "slope         int64\n",
              "ca            int64\n",
              "thal          int64\n",
              "target        int64\n",
              "dtype: object"
            ]
          },
          "metadata": {
            "tags": []
          },
          "execution_count": 28
        }
      ]
    },
    {
      "cell_type": "code",
      "metadata": {
        "id": "5vmFlOii2t7v",
        "trusted": true,
        "colab": {
          "base_uri": "https://localhost:8080/"
        },
        "outputId": "5892c44a-73e0-4aba-f623-9103fc663e4c"
      },
      "source": [
        "data.info()"
      ],
      "execution_count": 29,
      "outputs": [
        {
          "output_type": "stream",
          "text": [
            "<class 'pandas.core.frame.DataFrame'>\n",
            "RangeIndex: 253 entries, 0 to 252\n",
            "Data columns (total 15 columns):\n",
            " #   Column    Non-Null Count  Dtype  \n",
            "---  ------    --------------  -----  \n",
            " 0   ID        253 non-null    int64  \n",
            " 1   age       253 non-null    int64  \n",
            " 2   sex       253 non-null    int64  \n",
            " 3   cp        253 non-null    int64  \n",
            " 4   trestbps  253 non-null    int64  \n",
            " 5   chol      253 non-null    int64  \n",
            " 6   fbs       253 non-null    int64  \n",
            " 7   restecg   253 non-null    int64  \n",
            " 8   thalach   253 non-null    int64  \n",
            " 9   exang     253 non-null    int64  \n",
            " 10  oldpeak   253 non-null    float64\n",
            " 11  slope     253 non-null    int64  \n",
            " 12  ca        253 non-null    int64  \n",
            " 13  thal      253 non-null    int64  \n",
            " 14  target    253 non-null    int64  \n",
            "dtypes: float64(1), int64(14)\n",
            "memory usage: 29.8 KB\n"
          ],
          "name": "stdout"
        }
      ]
    },
    {
      "cell_type": "code",
      "metadata": {
        "id": "hQlSMucpJHJ6",
        "trusted": true,
        "colab": {
          "base_uri": "https://localhost:8080/"
        },
        "outputId": "d90ce393-397f-4141-fe45-12d0aea2ab2d"
      },
      "source": [
        "data_test.max()"
      ],
      "execution_count": 30,
      "outputs": [
        {
          "output_type": "execute_result",
          "data": {
            "text/plain": [
              "ID          292.0\n",
              "age          71.0\n",
              "sex           1.0\n",
              "cp            3.0\n",
              "trestbps    178.0\n",
              "chol        407.0\n",
              "fbs           1.0\n",
              "restecg       2.0\n",
              "thalach     182.0\n",
              "exang         1.0\n",
              "oldpeak       4.4\n",
              "slope         2.0\n",
              "ca            3.0\n",
              "thal          3.0\n",
              "dtype: float64"
            ]
          },
          "metadata": {
            "tags": []
          },
          "execution_count": 30
        }
      ]
    },
    {
      "cell_type": "code",
      "metadata": {
        "id": "BedVDUkbJJg5",
        "trusted": true,
        "colab": {
          "base_uri": "https://localhost:8080/"
        },
        "outputId": "81e5cdc3-361f-4906-94aa-c8919486afe4"
      },
      "source": [
        "data_test.min()"
      ],
      "execution_count": 31,
      "outputs": [
        {
          "output_type": "execute_result",
          "data": {
            "text/plain": [
              "ID           12.0\n",
              "age          39.0\n",
              "sex           0.0\n",
              "cp            0.0\n",
              "trestbps     94.0\n",
              "chol        157.0\n",
              "fbs           0.0\n",
              "restecg       0.0\n",
              "thalach      71.0\n",
              "exang         0.0\n",
              "oldpeak       0.0\n",
              "slope         0.0\n",
              "ca            0.0\n",
              "thal          1.0\n",
              "dtype: float64"
            ]
          },
          "metadata": {
            "tags": []
          },
          "execution_count": 31
        }
      ]
    },
    {
      "cell_type": "markdown",
      "metadata": {
        "id": "swOZbXuLSpG3"
      },
      "source": [
        "Getting minimum and maximum values for each linear features for grouping."
      ]
    },
    {
      "cell_type": "markdown",
      "metadata": {
        "id": "TY7Mo40YK3Q5"
      },
      "source": [
        "# age"
      ]
    },
    {
      "cell_type": "code",
      "metadata": {
        "id": "t2KOLFx59kUp",
        "trusted": true,
        "colab": {
          "base_uri": "https://localhost:8080/"
        },
        "outputId": "e165fc22-3588-4503-c867-d91c42f6d291"
      },
      "source": [
        "data.age.max()"
      ],
      "execution_count": 32,
      "outputs": [
        {
          "output_type": "execute_result",
          "data": {
            "text/plain": [
              "77"
            ]
          },
          "metadata": {
            "tags": []
          },
          "execution_count": 32
        }
      ]
    },
    {
      "cell_type": "code",
      "metadata": {
        "id": "4u3zDFl29p04",
        "trusted": true,
        "colab": {
          "base_uri": "https://localhost:8080/"
        },
        "outputId": "496cb4a7-dcd9-421b-bddd-16dc7d1a0c97"
      },
      "source": [
        "data.age.min()"
      ],
      "execution_count": 33,
      "outputs": [
        {
          "output_type": "execute_result",
          "data": {
            "text/plain": [
              "29"
            ]
          },
          "metadata": {
            "tags": []
          },
          "execution_count": 33
        }
      ]
    },
    {
      "cell_type": "code",
      "metadata": {
        "id": "S9Ie1CXQ9vNV",
        "trusted": true,
        "colab": {
          "base_uri": "https://localhost:8080/"
        },
        "outputId": "6321e7f6-1a1c-444f-ed90-01b4e28a74b0"
      },
      "source": [
        "data.age.median()"
      ],
      "execution_count": 34,
      "outputs": [
        {
          "output_type": "execute_result",
          "data": {
            "text/plain": [
              "55.0"
            ]
          },
          "metadata": {
            "tags": []
          },
          "execution_count": 34
        }
      ]
    },
    {
      "cell_type": "markdown",
      "metadata": {
        "id": "6RaL-p3AK5lp"
      },
      "source": [
        "# trestbps"
      ]
    },
    {
      "cell_type": "code",
      "metadata": {
        "id": "t2CSSACF3pob",
        "trusted": true,
        "colab": {
          "base_uri": "https://localhost:8080/"
        },
        "outputId": "08be5f4a-6ec5-46cc-b5ed-603b6c45242f"
      },
      "source": [
        "data.trestbps.max()"
      ],
      "execution_count": 35,
      "outputs": [
        {
          "output_type": "execute_result",
          "data": {
            "text/plain": [
              "200"
            ]
          },
          "metadata": {
            "tags": []
          },
          "execution_count": 35
        }
      ]
    },
    {
      "cell_type": "code",
      "metadata": {
        "id": "Tb51fH2B4NPk",
        "trusted": true,
        "colab": {
          "base_uri": "https://localhost:8080/"
        },
        "outputId": "8670a753-ba9f-44fc-e346-6f9953b27ee4"
      },
      "source": [
        "data.trestbps.min()"
      ],
      "execution_count": 36,
      "outputs": [
        {
          "output_type": "execute_result",
          "data": {
            "text/plain": [
              "94"
            ]
          },
          "metadata": {
            "tags": []
          },
          "execution_count": 36
        }
      ]
    },
    {
      "cell_type": "code",
      "metadata": {
        "id": "ceJuTOXd4jUF",
        "trusted": true,
        "colab": {
          "base_uri": "https://localhost:8080/"
        },
        "outputId": "b5b87654-d68c-402d-a35e-a2c4250b7fc1"
      },
      "source": [
        "data.trestbps.median()"
      ],
      "execution_count": 37,
      "outputs": [
        {
          "output_type": "execute_result",
          "data": {
            "text/plain": [
              "130.0"
            ]
          },
          "metadata": {
            "tags": []
          },
          "execution_count": 37
        }
      ]
    },
    {
      "cell_type": "markdown",
      "metadata": {
        "id": "EdfPQjlVK9rJ"
      },
      "source": [
        "# chol"
      ]
    },
    {
      "cell_type": "code",
      "metadata": {
        "id": "HyYhYWR78pZ-",
        "trusted": true,
        "colab": {
          "base_uri": "https://localhost:8080/"
        },
        "outputId": "8390e3be-f39b-4fdb-bded-9fc48c828f5a"
      },
      "source": [
        "data.chol.max()"
      ],
      "execution_count": 38,
      "outputs": [
        {
          "output_type": "execute_result",
          "data": {
            "text/plain": [
              "564"
            ]
          },
          "metadata": {
            "tags": []
          },
          "execution_count": 38
        }
      ]
    },
    {
      "cell_type": "code",
      "metadata": {
        "id": "PzHTy80wJtCa",
        "trusted": true,
        "colab": {
          "base_uri": "https://localhost:8080/"
        },
        "outputId": "bd32655b-8c74-4d4e-9f1a-10db57a36bf9"
      },
      "source": [
        "data.chol.min()"
      ],
      "execution_count": 39,
      "outputs": [
        {
          "output_type": "execute_result",
          "data": {
            "text/plain": [
              "126"
            ]
          },
          "metadata": {
            "tags": []
          },
          "execution_count": 39
        }
      ]
    },
    {
      "cell_type": "markdown",
      "metadata": {
        "id": "b7vnpAGNK_ua"
      },
      "source": [
        "# thalach"
      ]
    },
    {
      "cell_type": "code",
      "metadata": {
        "id": "lo4KrCwwLCkb",
        "trusted": true,
        "colab": {
          "base_uri": "https://localhost:8080/"
        },
        "outputId": "0c9886ba-64b2-4f59-bfe3-bc3025fd9a85"
      },
      "source": [
        "data.thalach.max()"
      ],
      "execution_count": 40,
      "outputs": [
        {
          "output_type": "execute_result",
          "data": {
            "text/plain": [
              "202"
            ]
          },
          "metadata": {
            "tags": []
          },
          "execution_count": 40
        }
      ]
    },
    {
      "cell_type": "code",
      "metadata": {
        "id": "s8fk7UQ_LH-M",
        "trusted": true,
        "colab": {
          "base_uri": "https://localhost:8080/"
        },
        "outputId": "b6606c23-e0f7-4245-b11b-2ee70b8c980e"
      },
      "source": [
        "data.thalach.min()"
      ],
      "execution_count": 41,
      "outputs": [
        {
          "output_type": "execute_result",
          "data": {
            "text/plain": [
              "90"
            ]
          },
          "metadata": {
            "tags": []
          },
          "execution_count": 41
        }
      ]
    },
    {
      "cell_type": "markdown",
      "metadata": {
        "id": "nw-0wnp5L7ze"
      },
      "source": [
        "# Oldpeak"
      ]
    },
    {
      "cell_type": "code",
      "metadata": {
        "id": "YAvG5bXENqMP",
        "trusted": true
      },
      "source": [
        "data.oldpeak=data.oldpeak*10"
      ],
      "execution_count": 42,
      "outputs": []
    },
    {
      "cell_type": "code",
      "metadata": {
        "id": "A1L7V1M0L3rc",
        "trusted": true,
        "colab": {
          "base_uri": "https://localhost:8080/"
        },
        "outputId": "771b52db-85e1-4df3-df5f-920663b87755"
      },
      "source": [
        "data.oldpeak.min()"
      ],
      "execution_count": 43,
      "outputs": [
        {
          "output_type": "execute_result",
          "data": {
            "text/plain": [
              "0.0"
            ]
          },
          "metadata": {
            "tags": []
          },
          "execution_count": 43
        }
      ]
    },
    {
      "cell_type": "code",
      "metadata": {
        "id": "zZLGkrueMAXp",
        "trusted": true,
        "colab": {
          "base_uri": "https://localhost:8080/"
        },
        "outputId": "3f9ab8c8-6c6c-49c3-dfeb-44939e31426c"
      },
      "source": [
        "data.oldpeak.max()"
      ],
      "execution_count": 44,
      "outputs": [
        {
          "output_type": "execute_result",
          "data": {
            "text/plain": [
              "62.0"
            ]
          },
          "metadata": {
            "tags": []
          },
          "execution_count": 44
        }
      ]
    },
    {
      "cell_type": "markdown",
      "metadata": {
        "id": "lEAlh29oSL6g"
      },
      "source": [
        "# ID"
      ]
    },
    {
      "cell_type": "code",
      "metadata": {
        "id": "ZPhCDFWUSOXF",
        "trusted": true,
        "colab": {
          "base_uri": "https://localhost:8080/"
        },
        "outputId": "9abcb038-0523-4d0c-c97c-83b1dfedd14c"
      },
      "source": [
        "data.ID.min()"
      ],
      "execution_count": 45,
      "outputs": [
        {
          "output_type": "execute_result",
          "data": {
            "text/plain": [
              "1"
            ]
          },
          "metadata": {
            "tags": []
          },
          "execution_count": 45
        }
      ]
    },
    {
      "cell_type": "code",
      "metadata": {
        "id": "8R64gVlgSV6A",
        "trusted": true,
        "colab": {
          "base_uri": "https://localhost:8080/"
        },
        "outputId": "f0f12e10-9479-4dd9-914a-736a770a1279"
      },
      "source": [
        "data.ID.max()"
      ],
      "execution_count": 46,
      "outputs": [
        {
          "output_type": "execute_result",
          "data": {
            "text/plain": [
              "303"
            ]
          },
          "metadata": {
            "tags": []
          },
          "execution_count": 46
        }
      ]
    },
    {
      "cell_type": "markdown",
      "metadata": {
        "id": "-Hf2Aa0qPGtF"
      },
      "source": [
        "# Creating a function to do grouping of possible data"
      ]
    },
    {
      "cell_type": "markdown",
      "metadata": {
        "id": "WGdqFZmpTrv4"
      },
      "source": [
        "Grouping every linear data for better classification model"
      ]
    },
    {
      "cell_type": "code",
      "metadata": {
        "id": "FuvGrNBhM7MW",
        "trusted": true
      },
      "source": [
        "def grouping(data):\n",
        "  #age\n",
        "  data['age'] = data['age'].astype(int)\n",
        "  data.loc[data['age'] <= 29, 'age'] = 0\n",
        "  data.loc[(data['age'] > 29) & (data['age'] <= 40), 'age'] = 1\n",
        "  data.loc[(data['age'] > 40) & (data['age'] <= 50), 'age'] = 2\n",
        "  data.loc[(data['age'] > 50) & (data['age'] <= 60), 'age'] = 3\n",
        "  data.loc[(data['age'] > 60) & (data['age'] <= 70), 'age'] = 4\n",
        "  data.loc[(data['age'] > 70) & (data['age'] <= 77), 'age'] = 5\n",
        "  data.loc[data['age'] > 77, 'age'] = 6\n",
        "  #trestbps\n",
        "  data['trestbps'] = data['trestbps'].astype(int)\n",
        "  data.loc[data['trestbps'] <= 94, 'trestbps'] = 0\n",
        "  data.loc[(data['trestbps'] > 94) & (data['trestbps'] <= 120), 'trestbps'] = 1\n",
        "  data.loc[(data['trestbps'] > 120) & (data['trestbps'] <=140), 'trestbps'] = 2\n",
        "  data.loc[(data['trestbps'] > 140) & (data['trestbps'] <= 160),'trestbps'] = 3\n",
        "  data.loc[(data['trestbps'] > 160) & (data['trestbps'] <= 180),'trestbps'] = 4\n",
        "  data.loc[(data['trestbps'] > 180) & (data['trestbps'] <= 200), 'trestbps'] = 5\n",
        "  data.loc[data['trestbps'] > 200, 'trestbps'] = 6\n",
        "  #chol\n",
        "  data['chol'] = data['chol'].astype(int)\n",
        "  data.loc[data['chol'] <= 126, 'chol'] = 0\n",
        "  data.loc[(data['chol'] > 126) & (data['chol'] <= 200), 'chol'] = 1\n",
        "  data.loc[(data['chol'] > 200) & (data['chol'] <=300), 'chol'] = 2\n",
        "  data.loc[(data['chol'] > 300) & (data['chol'] <= 400),'chol'] = 3\n",
        "  data.loc[(data['chol'] > 400) & (data['chol'] <= 500),'chol'] = 4\n",
        "  data.loc[(data['chol'] > 500) & (data['chol'] <= 564), 'chol'] = 5\n",
        "  data.loc[data['chol'] > 564, 'chol'] = 6\n",
        "  #thalach\n",
        "  data['thalach'] = data['thalach'].astype(int)\n",
        "  data.loc[data['thalach'] <= 90, 'thalach'] = 0\n",
        "  data.loc[(data['thalach'] > 90) & (data['thalach'] <= 120), 'thalach'] = 1\n",
        "  data.loc[(data['thalach'] > 120) & (data['thalach'] <=140), 'thalach'] = 2\n",
        "  data.loc[(data['thalach'] > 140) & (data['thalach'] <= 160),'thalach'] = 3\n",
        "  data.loc[(data['thalach'] > 160) & (data['thalach'] <= 180),'thalach'] = 4\n",
        "  data.loc[(data['thalach'] > 180) & (data['thalach'] <= 202), 'thalach'] = 5\n",
        "  data.loc[data['thalach'] > 202, 'thalach'] = 6\n",
        "  #oldpeak\n",
        "  data.oldpeak=data.oldpeak*10\n",
        "  data['oldpeak'] = data['oldpeak'].astype(int)\n",
        "  data.loc[data['oldpeak'] <= 0, 'oldpeak'] = 0\n",
        "  data.loc[(data['oldpeak'] > 0) & (data['oldpeak'] <= 10),'oldpeak'] = 1\n",
        "  data.loc[(data['oldpeak'] > 10) & (data['oldpeak'] <= 20),'oldpeak'] = 2\n",
        "  data.loc[(data['oldpeak'] > 20) & (data['oldpeak'] <= 30),'oldpeak'] = 3\n",
        "  data.loc[(data['oldpeak'] > 30) & (data['oldpeak'] <= 40),'oldpeak'] = 4\n",
        "  data.loc[(data['oldpeak'] > 40) & (data['oldpeak'] <= 50),'oldpeak'] = 5\n",
        "  data.loc[(data['oldpeak'] > 50) & (data['oldpeak'] <= 60),'oldpeak'] = 6\n",
        "  data.loc[data['oldpeak'] > 60, 'oldpeak'] = 6\n",
        "  #ID\n",
        "  data['ID'] = data['ID'].astype(int)\n",
        "  data.loc[data['ID'] <= 1, 'ID'] = 0\n",
        "  data.loc[(data['ID'] > 1) & (data['ID'] <= 70), 'ID'] = 1\n",
        "  data.loc[(data['ID'] > 70) & (data['ID'] <= 140), 'ID'] = 2\n",
        "  data.loc[(data['ID'] > 140) & (data['ID'] <= 210), 'ID'] = 3\n",
        "  data.loc[(data['ID'] > 210) & (data['ID'] <= 280), 'ID'] = 4\n",
        "  data.loc[(data['ID'] > 280) & (data['ID'] <= 303), 'ID'] = 5\n",
        "  data.loc[data['ID'] > 303, 'ID'] = 6\n",
        "  return"
      ],
      "execution_count": 47,
      "outputs": []
    },
    {
      "cell_type": "markdown",
      "metadata": {
        "id": "KA5ddqx4T4rf"
      },
      "source": [
        "Applying the function to the datasets"
      ]
    },
    {
      "cell_type": "code",
      "metadata": {
        "id": "eCykb5kaXhza",
        "trusted": true,
        "colab": {
          "base_uri": "https://localhost:8080/",
          "height": 357
        },
        "outputId": "e0be8049-143e-4e9b-fa7a-22bddce630c0"
      },
      "source": [
        "grouping(data)\n",
        "data.head(10)"
      ],
      "execution_count": 48,
      "outputs": [
        {
          "output_type": "execute_result",
          "data": {
            "text/html": [
              "<div>\n",
              "<style scoped>\n",
              "    .dataframe tbody tr th:only-of-type {\n",
              "        vertical-align: middle;\n",
              "    }\n",
              "\n",
              "    .dataframe tbody tr th {\n",
              "        vertical-align: top;\n",
              "    }\n",
              "\n",
              "    .dataframe thead th {\n",
              "        text-align: right;\n",
              "    }\n",
              "</style>\n",
              "<table border=\"1\" class=\"dataframe\">\n",
              "  <thead>\n",
              "    <tr style=\"text-align: right;\">\n",
              "      <th></th>\n",
              "      <th>ID</th>\n",
              "      <th>age</th>\n",
              "      <th>sex</th>\n",
              "      <th>cp</th>\n",
              "      <th>trestbps</th>\n",
              "      <th>chol</th>\n",
              "      <th>fbs</th>\n",
              "      <th>restecg</th>\n",
              "      <th>thalach</th>\n",
              "      <th>exang</th>\n",
              "      <th>oldpeak</th>\n",
              "      <th>slope</th>\n",
              "      <th>ca</th>\n",
              "      <th>thal</th>\n",
              "      <th>target</th>\n",
              "    </tr>\n",
              "  </thead>\n",
              "  <tbody>\n",
              "    <tr>\n",
              "      <th>0</th>\n",
              "      <td>1</td>\n",
              "      <td>4</td>\n",
              "      <td>0</td>\n",
              "      <td>2</td>\n",
              "      <td>2</td>\n",
              "      <td>4</td>\n",
              "      <td>1</td>\n",
              "      <td>0</td>\n",
              "      <td>3</td>\n",
              "      <td>0</td>\n",
              "      <td>6</td>\n",
              "      <td>2</td>\n",
              "      <td>1</td>\n",
              "      <td>2</td>\n",
              "      <td>1</td>\n",
              "    </tr>\n",
              "    <tr>\n",
              "      <th>1</th>\n",
              "      <td>1</td>\n",
              "      <td>2</td>\n",
              "      <td>1</td>\n",
              "      <td>0</td>\n",
              "      <td>2</td>\n",
              "      <td>2</td>\n",
              "      <td>0</td>\n",
              "      <td>0</td>\n",
              "      <td>5</td>\n",
              "      <td>0</td>\n",
              "      <td>0</td>\n",
              "      <td>2</td>\n",
              "      <td>0</td>\n",
              "      <td>2</td>\n",
              "      <td>1</td>\n",
              "    </tr>\n",
              "    <tr>\n",
              "      <th>2</th>\n",
              "      <td>1</td>\n",
              "      <td>3</td>\n",
              "      <td>1</td>\n",
              "      <td>2</td>\n",
              "      <td>4</td>\n",
              "      <td>1</td>\n",
              "      <td>1</td>\n",
              "      <td>1</td>\n",
              "      <td>4</td>\n",
              "      <td>0</td>\n",
              "      <td>5</td>\n",
              "      <td>2</td>\n",
              "      <td>0</td>\n",
              "      <td>3</td>\n",
              "      <td>1</td>\n",
              "    </tr>\n",
              "    <tr>\n",
              "      <th>3</th>\n",
              "      <td>3</td>\n",
              "      <td>2</td>\n",
              "      <td>0</td>\n",
              "      <td>2</td>\n",
              "      <td>1</td>\n",
              "      <td>2</td>\n",
              "      <td>0</td>\n",
              "      <td>1</td>\n",
              "      <td>3</td>\n",
              "      <td>0</td>\n",
              "      <td>3</td>\n",
              "      <td>1</td>\n",
              "      <td>1</td>\n",
              "      <td>2</td>\n",
              "      <td>1</td>\n",
              "    </tr>\n",
              "    <tr>\n",
              "      <th>4</th>\n",
              "      <td>5</td>\n",
              "      <td>3</td>\n",
              "      <td>0</td>\n",
              "      <td>1</td>\n",
              "      <td>2</td>\n",
              "      <td>2</td>\n",
              "      <td>0</td>\n",
              "      <td>0</td>\n",
              "      <td>4</td>\n",
              "      <td>0</td>\n",
              "      <td>0</td>\n",
              "      <td>1</td>\n",
              "      <td>1</td>\n",
              "      <td>2</td>\n",
              "      <td>0</td>\n",
              "    </tr>\n",
              "    <tr>\n",
              "      <th>5</th>\n",
              "      <td>1</td>\n",
              "      <td>3</td>\n",
              "      <td>1</td>\n",
              "      <td>2</td>\n",
              "      <td>2</td>\n",
              "      <td>2</td>\n",
              "      <td>1</td>\n",
              "      <td>0</td>\n",
              "      <td>4</td>\n",
              "      <td>0</td>\n",
              "      <td>0</td>\n",
              "      <td>2</td>\n",
              "      <td>0</td>\n",
              "      <td>2</td>\n",
              "      <td>1</td>\n",
              "    </tr>\n",
              "    <tr>\n",
              "      <th>6</th>\n",
              "      <td>3</td>\n",
              "      <td>2</td>\n",
              "      <td>1</td>\n",
              "      <td>0</td>\n",
              "      <td>1</td>\n",
              "      <td>1</td>\n",
              "      <td>0</td>\n",
              "      <td>0</td>\n",
              "      <td>1</td>\n",
              "      <td>1</td>\n",
              "      <td>6</td>\n",
              "      <td>1</td>\n",
              "      <td>0</td>\n",
              "      <td>3</td>\n",
              "      <td>0</td>\n",
              "    </tr>\n",
              "    <tr>\n",
              "      <th>7</th>\n",
              "      <td>4</td>\n",
              "      <td>4</td>\n",
              "      <td>1</td>\n",
              "      <td>0</td>\n",
              "      <td>3</td>\n",
              "      <td>2</td>\n",
              "      <td>0</td>\n",
              "      <td>0</td>\n",
              "      <td>2</td>\n",
              "      <td>0</td>\n",
              "      <td>6</td>\n",
              "      <td>1</td>\n",
              "      <td>2</td>\n",
              "      <td>1</td>\n",
              "      <td>0</td>\n",
              "    </tr>\n",
              "    <tr>\n",
              "      <th>8</th>\n",
              "      <td>2</td>\n",
              "      <td>1</td>\n",
              "      <td>0</td>\n",
              "      <td>1</td>\n",
              "      <td>1</td>\n",
              "      <td>2</td>\n",
              "      <td>0</td>\n",
              "      <td>1</td>\n",
              "      <td>5</td>\n",
              "      <td>0</td>\n",
              "      <td>6</td>\n",
              "      <td>2</td>\n",
              "      <td>0</td>\n",
              "      <td>2</td>\n",
              "      <td>1</td>\n",
              "    </tr>\n",
              "    <tr>\n",
              "      <th>9</th>\n",
              "      <td>2</td>\n",
              "      <td>3</td>\n",
              "      <td>0</td>\n",
              "      <td>1</td>\n",
              "      <td>2</td>\n",
              "      <td>2</td>\n",
              "      <td>1</td>\n",
              "      <td>0</td>\n",
              "      <td>3</td>\n",
              "      <td>1</td>\n",
              "      <td>0</td>\n",
              "      <td>2</td>\n",
              "      <td>1</td>\n",
              "      <td>2</td>\n",
              "      <td>1</td>\n",
              "    </tr>\n",
              "  </tbody>\n",
              "</table>\n",
              "</div>"
            ],
            "text/plain": [
              "   ID  age  sex  cp  trestbps  chol  ...  exang  oldpeak  slope  ca  thal  target\n",
              "0   1    4    0   2         2     4  ...      0        6      2   1     2       1\n",
              "1   1    2    1   0         2     2  ...      0        0      2   0     2       1\n",
              "2   1    3    1   2         4     1  ...      0        5      2   0     3       1\n",
              "3   3    2    0   2         1     2  ...      0        3      1   1     2       1\n",
              "4   5    3    0   1         2     2  ...      0        0      1   1     2       0\n",
              "5   1    3    1   2         2     2  ...      0        0      2   0     2       1\n",
              "6   3    2    1   0         1     1  ...      1        6      1   0     3       0\n",
              "7   4    4    1   0         3     2  ...      0        6      1   2     1       0\n",
              "8   2    1    0   1         1     2  ...      0        6      2   0     2       1\n",
              "9   2    3    0   1         2     2  ...      1        0      2   1     2       1\n",
              "\n",
              "[10 rows x 15 columns]"
            ]
          },
          "metadata": {
            "tags": []
          },
          "execution_count": 48
        }
      ]
    },
    {
      "cell_type": "code",
      "metadata": {
        "id": "Z70ToOoHXwYK",
        "trusted": true,
        "colab": {
          "base_uri": "https://localhost:8080/",
          "height": 203
        },
        "outputId": "bbf40e9a-9e0a-47ee-dcca-b6fbd9b0bba2"
      },
      "source": [
        "grouping(Z)\n",
        "Z.head()"
      ],
      "execution_count": 49,
      "outputs": [
        {
          "output_type": "execute_result",
          "data": {
            "text/html": [
              "<div>\n",
              "<style scoped>\n",
              "    .dataframe tbody tr th:only-of-type {\n",
              "        vertical-align: middle;\n",
              "    }\n",
              "\n",
              "    .dataframe tbody tr th {\n",
              "        vertical-align: top;\n",
              "    }\n",
              "\n",
              "    .dataframe thead th {\n",
              "        text-align: right;\n",
              "    }\n",
              "</style>\n",
              "<table border=\"1\" class=\"dataframe\">\n",
              "  <thead>\n",
              "    <tr style=\"text-align: right;\">\n",
              "      <th></th>\n",
              "      <th>ID</th>\n",
              "      <th>age</th>\n",
              "      <th>sex</th>\n",
              "      <th>cp</th>\n",
              "      <th>trestbps</th>\n",
              "      <th>chol</th>\n",
              "      <th>fbs</th>\n",
              "      <th>restecg</th>\n",
              "      <th>thalach</th>\n",
              "      <th>exang</th>\n",
              "      <th>oldpeak</th>\n",
              "      <th>slope</th>\n",
              "      <th>ca</th>\n",
              "      <th>thal</th>\n",
              "    </tr>\n",
              "  </thead>\n",
              "  <tbody>\n",
              "    <tr>\n",
              "      <th>0</th>\n",
              "      <td>2</td>\n",
              "      <td>4</td>\n",
              "      <td>0</td>\n",
              "      <td>2</td>\n",
              "      <td>3</td>\n",
              "      <td>2</td>\n",
              "      <td>0</td>\n",
              "      <td>1</td>\n",
              "      <td>4</td>\n",
              "      <td>0</td>\n",
              "      <td>0</td>\n",
              "      <td>2</td>\n",
              "      <td>1</td>\n",
              "      <td>2</td>\n",
              "    </tr>\n",
              "    <tr>\n",
              "      <th>1</th>\n",
              "      <td>4</td>\n",
              "      <td>3</td>\n",
              "      <td>1</td>\n",
              "      <td>0</td>\n",
              "      <td>4</td>\n",
              "      <td>2</td>\n",
              "      <td>1</td>\n",
              "      <td>0</td>\n",
              "      <td>2</td>\n",
              "      <td>0</td>\n",
              "      <td>1</td>\n",
              "      <td>1</td>\n",
              "      <td>3</td>\n",
              "      <td>3</td>\n",
              "    </tr>\n",
              "    <tr>\n",
              "      <th>2</th>\n",
              "      <td>4</td>\n",
              "      <td>2</td>\n",
              "      <td>1</td>\n",
              "      <td>0</td>\n",
              "      <td>2</td>\n",
              "      <td>2</td>\n",
              "      <td>1</td>\n",
              "      <td>0</td>\n",
              "      <td>3</td>\n",
              "      <td>1</td>\n",
              "      <td>0</td>\n",
              "      <td>2</td>\n",
              "      <td>2</td>\n",
              "      <td>3</td>\n",
              "    </tr>\n",
              "    <tr>\n",
              "      <th>3</th>\n",
              "      <td>3</td>\n",
              "      <td>3</td>\n",
              "      <td>1</td>\n",
              "      <td>2</td>\n",
              "      <td>1</td>\n",
              "      <td>2</td>\n",
              "      <td>0</td>\n",
              "      <td>0</td>\n",
              "      <td>4</td>\n",
              "      <td>0</td>\n",
              "      <td>3</td>\n",
              "      <td>1</td>\n",
              "      <td>1</td>\n",
              "      <td>3</td>\n",
              "    </tr>\n",
              "    <tr>\n",
              "      <th>4</th>\n",
              "      <td>1</td>\n",
              "      <td>1</td>\n",
              "      <td>1</td>\n",
              "      <td>3</td>\n",
              "      <td>2</td>\n",
              "      <td>1</td>\n",
              "      <td>0</td>\n",
              "      <td>1</td>\n",
              "      <td>4</td>\n",
              "      <td>1</td>\n",
              "      <td>2</td>\n",
              "      <td>2</td>\n",
              "      <td>0</td>\n",
              "      <td>3</td>\n",
              "    </tr>\n",
              "  </tbody>\n",
              "</table>\n",
              "</div>"
            ],
            "text/plain": [
              "   ID  age  sex  cp  trestbps  chol  ...  thalach  exang  oldpeak  slope  ca  thal\n",
              "0   2    4    0   2         3     2  ...        4      0        0      2   1     2\n",
              "1   4    3    1   0         4     2  ...        2      0        1      1   3     3\n",
              "2   4    2    1   0         2     2  ...        3      1        0      2   2     3\n",
              "3   3    3    1   2         1     2  ...        4      0        3      1   1     3\n",
              "4   1    1    1   3         2     1  ...        4      1        2      2   0     3\n",
              "\n",
              "[5 rows x 14 columns]"
            ]
          },
          "metadata": {
            "tags": []
          },
          "execution_count": 49
        }
      ]
    },
    {
      "cell_type": "markdown",
      "metadata": {
        "id": "-8DiDORRXPdv"
      },
      "source": [
        "knowing the no. of samples on each features according to the responce variable target"
      ]
    },
    {
      "cell_type": "code",
      "metadata": {
        "id": "V34ATyOgZJE0",
        "trusted": true,
        "colab": {
          "base_uri": "https://localhost:8080/"
        },
        "outputId": "9f14dbac-d9f6-4557-c079-b9241ead8a45"
      },
      "source": [
        "data.groupby(['sex', 'target'])['target'].count()"
      ],
      "execution_count": 50,
      "outputs": [
        {
          "output_type": "execute_result",
          "data": {
            "text/plain": [
              "sex  target\n",
              "0    0         18\n",
              "     1         62\n",
              "1    0         98\n",
              "     1         75\n",
              "Name: target, dtype: int64"
            ]
          },
          "metadata": {
            "tags": []
          },
          "execution_count": 50
        }
      ]
    },
    {
      "cell_type": "code",
      "metadata": {
        "id": "uy43XG-JZdPe",
        "trusted": true,
        "colab": {
          "base_uri": "https://localhost:8080/"
        },
        "outputId": "1ae52dce-57b9-40d2-d3da-d7fc21e158e1"
      },
      "source": [
        "data.groupby(['target', 'age'])['age'].count()"
      ],
      "execution_count": 51,
      "outputs": [
        {
          "output_type": "execute_result",
          "data": {
            "text/plain": [
              "target  age\n",
              "0       1       6\n",
              "        2      20\n",
              "        3      55\n",
              "        4      34\n",
              "        5       1\n",
              "1       0       1\n",
              "        1      10\n",
              "        2      46\n",
              "        3      55\n",
              "        4      21\n",
              "        5       4\n",
              "Name: age, dtype: int64"
            ]
          },
          "metadata": {
            "tags": []
          },
          "execution_count": 51
        }
      ]
    },
    {
      "cell_type": "code",
      "metadata": {
        "id": "SK5jrUgqZkbi",
        "trusted": true,
        "colab": {
          "base_uri": "https://localhost:8080/"
        },
        "outputId": "15ca0e39-d9b8-4e76-d1d0-f15b57dcbe52"
      },
      "source": [
        "data.groupby(['target', 'chol'])['chol'].count()"
      ],
      "execution_count": 52,
      "outputs": [
        {
          "output_type": "execute_result",
          "data": {
            "text/plain": [
              "target  chol\n",
              "0       1       20\n",
              "        2       80\n",
              "        3       15\n",
              "        4        1\n",
              "1       0        1\n",
              "        1       23\n",
              "        2       93\n",
              "        3       18\n",
              "        4        1\n",
              "        5        1\n",
              "Name: chol, dtype: int64"
            ]
          },
          "metadata": {
            "tags": []
          },
          "execution_count": 52
        }
      ]
    },
    {
      "cell_type": "code",
      "metadata": {
        "id": "IdfrzZnhZ_6r",
        "trusted": true,
        "colab": {
          "base_uri": "https://localhost:8080/",
          "height": 162
        },
        "outputId": "453abd4c-2cdf-4ff2-c3a1-5b1724b1ae79"
      },
      "source": [
        "pd.crosstab([data.sex,data.target],data.age,margins=True).style.background_gradient(cmap='jet')"
      ],
      "execution_count": 53,
      "outputs": [
        {
          "output_type": "execute_result",
          "data": {
            "text/html": [
              "<style  type=\"text/css\" >\n",
              "#T_53b8b2a2_d252_11eb_9da0_0242ac1c0002row0_col0,#T_53b8b2a2_d252_11eb_9da0_0242ac1c0002row0_col1,#T_53b8b2a2_d252_11eb_9da0_0242ac1c0002row0_col2,#T_53b8b2a2_d252_11eb_9da0_0242ac1c0002row0_col3,#T_53b8b2a2_d252_11eb_9da0_0242ac1c0002row0_col4,#T_53b8b2a2_d252_11eb_9da0_0242ac1c0002row0_col5,#T_53b8b2a2_d252_11eb_9da0_0242ac1c0002row0_col6,#T_53b8b2a2_d252_11eb_9da0_0242ac1c0002row1_col0,#T_53b8b2a2_d252_11eb_9da0_0242ac1c0002row2_col0,#T_53b8b2a2_d252_11eb_9da0_0242ac1c0002row3_col4,#T_53b8b2a2_d252_11eb_9da0_0242ac1c0002row3_col5{\n",
              "            background-color:  #000080;\n",
              "            color:  #f1f1f1;\n",
              "        }#T_53b8b2a2_d252_11eb_9da0_0242ac1c0002row1_col1{\n",
              "            background-color:  #0080ff;\n",
              "            color:  #000000;\n",
              "        }#T_53b8b2a2_d252_11eb_9da0_0242ac1c0002row1_col2{\n",
              "            background-color:  #0088ff;\n",
              "            color:  #000000;\n",
              "        }#T_53b8b2a2_d252_11eb_9da0_0242ac1c0002row1_col3{\n",
              "            background-color:  #0000f1;\n",
              "            color:  #f1f1f1;\n",
              "        }#T_53b8b2a2_d252_11eb_9da0_0242ac1c0002row1_col4,#T_53b8b2a2_d252_11eb_9da0_0242ac1c0002row1_col6{\n",
              "            background-color:  #003cff;\n",
              "            color:  #f1f1f1;\n",
              "        }#T_53b8b2a2_d252_11eb_9da0_0242ac1c0002row1_col5{\n",
              "            background-color:  #ff6800;\n",
              "            color:  #000000;\n",
              "        }#T_53b8b2a2_d252_11eb_9da0_0242ac1c0002row2_col1,#T_53b8b2a2_d252_11eb_9da0_0242ac1c0002row3_col1{\n",
              "            background-color:  #16ffe1;\n",
              "            color:  #000000;\n",
              "        }#T_53b8b2a2_d252_11eb_9da0_0242ac1c0002row2_col2{\n",
              "            background-color:  #0098ff;\n",
              "            color:  #000000;\n",
              "        }#T_53b8b2a2_d252_11eb_9da0_0242ac1c0002row2_col3{\n",
              "            background-color:  #00d4ff;\n",
              "            color:  #000000;\n",
              "        }#T_53b8b2a2_d252_11eb_9da0_0242ac1c0002row2_col4{\n",
              "            background-color:  #50ffa7;\n",
              "            color:  #000000;\n",
              "        }#T_53b8b2a2_d252_11eb_9da0_0242ac1c0002row2_col5{\n",
              "            background-color:  #004cff;\n",
              "            color:  #f1f1f1;\n",
              "        }#T_53b8b2a2_d252_11eb_9da0_0242ac1c0002row2_col6{\n",
              "            background-color:  #00dcfe;\n",
              "            color:  #000000;\n",
              "        }#T_53b8b2a2_d252_11eb_9da0_0242ac1c0002row3_col0,#T_53b8b2a2_d252_11eb_9da0_0242ac1c0002row4_col0,#T_53b8b2a2_d252_11eb_9da0_0242ac1c0002row4_col1,#T_53b8b2a2_d252_11eb_9da0_0242ac1c0002row4_col2,#T_53b8b2a2_d252_11eb_9da0_0242ac1c0002row4_col3,#T_53b8b2a2_d252_11eb_9da0_0242ac1c0002row4_col4,#T_53b8b2a2_d252_11eb_9da0_0242ac1c0002row4_col5,#T_53b8b2a2_d252_11eb_9da0_0242ac1c0002row4_col6{\n",
              "            background-color:  #800000;\n",
              "            color:  #f1f1f1;\n",
              "        }#T_53b8b2a2_d252_11eb_9da0_0242ac1c0002row3_col2{\n",
              "            background-color:  #36ffc1;\n",
              "            color:  #000000;\n",
              "        }#T_53b8b2a2_d252_11eb_9da0_0242ac1c0002row3_col3{\n",
              "            background-color:  #006cff;\n",
              "            color:  #f1f1f1;\n",
              "        }#T_53b8b2a2_d252_11eb_9da0_0242ac1c0002row3_col6{\n",
              "            background-color:  #0078ff;\n",
              "            color:  #f1f1f1;\n",
              "        }</style><table id=\"T_53b8b2a2_d252_11eb_9da0_0242ac1c0002\" ><thead>    <tr>        <th class=\"blank\" ></th>        <th class=\"index_name level0\" >age</th>        <th class=\"col_heading level0 col0\" >0</th>        <th class=\"col_heading level0 col1\" >1</th>        <th class=\"col_heading level0 col2\" >2</th>        <th class=\"col_heading level0 col3\" >3</th>        <th class=\"col_heading level0 col4\" >4</th>        <th class=\"col_heading level0 col5\" >5</th>        <th class=\"col_heading level0 col6\" >All</th>    </tr>    <tr>        <th class=\"index_name level0\" >sex</th>        <th class=\"index_name level1\" >target</th>        <th class=\"blank\" ></th>        <th class=\"blank\" ></th>        <th class=\"blank\" ></th>        <th class=\"blank\" ></th>        <th class=\"blank\" ></th>        <th class=\"blank\" ></th>        <th class=\"blank\" ></th>    </tr></thead><tbody>\n",
              "                <tr>\n",
              "                        <th id=\"T_53b8b2a2_d252_11eb_9da0_0242ac1c0002level0_row0\" class=\"row_heading level0 row0\" rowspan=2>0</th>\n",
              "                        <th id=\"T_53b8b2a2_d252_11eb_9da0_0242ac1c0002level1_row0\" class=\"row_heading level1 row0\" >0</th>\n",
              "                        <td id=\"T_53b8b2a2_d252_11eb_9da0_0242ac1c0002row0_col0\" class=\"data row0 col0\" >0</td>\n",
              "                        <td id=\"T_53b8b2a2_d252_11eb_9da0_0242ac1c0002row0_col1\" class=\"data row0 col1\" >0</td>\n",
              "                        <td id=\"T_53b8b2a2_d252_11eb_9da0_0242ac1c0002row0_col2\" class=\"data row0 col2\" >1</td>\n",
              "                        <td id=\"T_53b8b2a2_d252_11eb_9da0_0242ac1c0002row0_col3\" class=\"data row0 col3\" >11</td>\n",
              "                        <td id=\"T_53b8b2a2_d252_11eb_9da0_0242ac1c0002row0_col4\" class=\"data row0 col4\" >6</td>\n",
              "                        <td id=\"T_53b8b2a2_d252_11eb_9da0_0242ac1c0002row0_col5\" class=\"data row0 col5\" >0</td>\n",
              "                        <td id=\"T_53b8b2a2_d252_11eb_9da0_0242ac1c0002row0_col6\" class=\"data row0 col6\" >18</td>\n",
              "            </tr>\n",
              "            <tr>\n",
              "                                <th id=\"T_53b8b2a2_d252_11eb_9da0_0242ac1c0002level1_row1\" class=\"row_heading level1 row1\" >1</th>\n",
              "                        <td id=\"T_53b8b2a2_d252_11eb_9da0_0242ac1c0002row1_col0\" class=\"data row1 col0\" >0</td>\n",
              "                        <td id=\"T_53b8b2a2_d252_11eb_9da0_0242ac1c0002row1_col1\" class=\"data row1 col1\" >4</td>\n",
              "                        <td id=\"T_53b8b2a2_d252_11eb_9da0_0242ac1c0002row1_col2\" class=\"data row1 col2\" >18</td>\n",
              "                        <td id=\"T_53b8b2a2_d252_11eb_9da0_0242ac1c0002row1_col3\" class=\"data row1 col3\" >21</td>\n",
              "                        <td id=\"T_53b8b2a2_d252_11eb_9da0_0242ac1c0002row1_col4\" class=\"data row1 col4\" >15</td>\n",
              "                        <td id=\"T_53b8b2a2_d252_11eb_9da0_0242ac1c0002row1_col5\" class=\"data row1 col5\" >4</td>\n",
              "                        <td id=\"T_53b8b2a2_d252_11eb_9da0_0242ac1c0002row1_col6\" class=\"data row1 col6\" >62</td>\n",
              "            </tr>\n",
              "            <tr>\n",
              "                        <th id=\"T_53b8b2a2_d252_11eb_9da0_0242ac1c0002level0_row2\" class=\"row_heading level0 row2\" rowspan=2>1</th>\n",
              "                        <th id=\"T_53b8b2a2_d252_11eb_9da0_0242ac1c0002level1_row2\" class=\"row_heading level1 row2\" >0</th>\n",
              "                        <td id=\"T_53b8b2a2_d252_11eb_9da0_0242ac1c0002row2_col0\" class=\"data row2 col0\" >0</td>\n",
              "                        <td id=\"T_53b8b2a2_d252_11eb_9da0_0242ac1c0002row2_col1\" class=\"data row2 col1\" >6</td>\n",
              "                        <td id=\"T_53b8b2a2_d252_11eb_9da0_0242ac1c0002row2_col2\" class=\"data row2 col2\" >19</td>\n",
              "                        <td id=\"T_53b8b2a2_d252_11eb_9da0_0242ac1c0002row2_col3\" class=\"data row2 col3\" >44</td>\n",
              "                        <td id=\"T_53b8b2a2_d252_11eb_9da0_0242ac1c0002row2_col4\" class=\"data row2 col4\" >28</td>\n",
              "                        <td id=\"T_53b8b2a2_d252_11eb_9da0_0242ac1c0002row2_col5\" class=\"data row2 col5\" >1</td>\n",
              "                        <td id=\"T_53b8b2a2_d252_11eb_9da0_0242ac1c0002row2_col6\" class=\"data row2 col6\" >98</td>\n",
              "            </tr>\n",
              "            <tr>\n",
              "                                <th id=\"T_53b8b2a2_d252_11eb_9da0_0242ac1c0002level1_row3\" class=\"row_heading level1 row3\" >1</th>\n",
              "                        <td id=\"T_53b8b2a2_d252_11eb_9da0_0242ac1c0002row3_col0\" class=\"data row3 col0\" >1</td>\n",
              "                        <td id=\"T_53b8b2a2_d252_11eb_9da0_0242ac1c0002row3_col1\" class=\"data row3 col1\" >6</td>\n",
              "                        <td id=\"T_53b8b2a2_d252_11eb_9da0_0242ac1c0002row3_col2\" class=\"data row3 col2\" >28</td>\n",
              "                        <td id=\"T_53b8b2a2_d252_11eb_9da0_0242ac1c0002row3_col3\" class=\"data row3 col3\" >34</td>\n",
              "                        <td id=\"T_53b8b2a2_d252_11eb_9da0_0242ac1c0002row3_col4\" class=\"data row3 col4\" >6</td>\n",
              "                        <td id=\"T_53b8b2a2_d252_11eb_9da0_0242ac1c0002row3_col5\" class=\"data row3 col5\" >0</td>\n",
              "                        <td id=\"T_53b8b2a2_d252_11eb_9da0_0242ac1c0002row3_col6\" class=\"data row3 col6\" >75</td>\n",
              "            </tr>\n",
              "            <tr>\n",
              "                        <th id=\"T_53b8b2a2_d252_11eb_9da0_0242ac1c0002level0_row4\" class=\"row_heading level0 row4\" >All</th>\n",
              "                        <th id=\"T_53b8b2a2_d252_11eb_9da0_0242ac1c0002level1_row4\" class=\"row_heading level1 row4\" ></th>\n",
              "                        <td id=\"T_53b8b2a2_d252_11eb_9da0_0242ac1c0002row4_col0\" class=\"data row4 col0\" >1</td>\n",
              "                        <td id=\"T_53b8b2a2_d252_11eb_9da0_0242ac1c0002row4_col1\" class=\"data row4 col1\" >16</td>\n",
              "                        <td id=\"T_53b8b2a2_d252_11eb_9da0_0242ac1c0002row4_col2\" class=\"data row4 col2\" >66</td>\n",
              "                        <td id=\"T_53b8b2a2_d252_11eb_9da0_0242ac1c0002row4_col3\" class=\"data row4 col3\" >110</td>\n",
              "                        <td id=\"T_53b8b2a2_d252_11eb_9da0_0242ac1c0002row4_col4\" class=\"data row4 col4\" >55</td>\n",
              "                        <td id=\"T_53b8b2a2_d252_11eb_9da0_0242ac1c0002row4_col5\" class=\"data row4 col5\" >5</td>\n",
              "                        <td id=\"T_53b8b2a2_d252_11eb_9da0_0242ac1c0002row4_col6\" class=\"data row4 col6\" >253</td>\n",
              "            </tr>\n",
              "    </tbody></table>"
            ],
            "text/plain": [
              "<pandas.io.formats.style.Styler at 0x7f9f424c5f10>"
            ]
          },
          "metadata": {
            "tags": []
          },
          "execution_count": 53
        }
      ]
    },
    {
      "cell_type": "code",
      "metadata": {
        "id": "sbI_QjLsaQqO",
        "trusted": true,
        "colab": {
          "base_uri": "https://localhost:8080/",
          "height": 162
        },
        "outputId": "d0d958d2-9398-4dd4-fdcb-3bc928565d34"
      },
      "source": [
        "pd.crosstab([data.sex,data.target],data.chol,margins=True).style.background_gradient(cmap='jet')"
      ],
      "execution_count": 54,
      "outputs": [
        {
          "output_type": "execute_result",
          "data": {
            "text/html": [
              "<style  type=\"text/css\" >\n",
              "#T_54ce84a0_d252_11eb_9da0_0242ac1c0002row0_col0,#T_54ce84a0_d252_11eb_9da0_0242ac1c0002row0_col1,#T_54ce84a0_d252_11eb_9da0_0242ac1c0002row0_col2,#T_54ce84a0_d252_11eb_9da0_0242ac1c0002row0_col3,#T_54ce84a0_d252_11eb_9da0_0242ac1c0002row0_col5,#T_54ce84a0_d252_11eb_9da0_0242ac1c0002row0_col6,#T_54ce84a0_d252_11eb_9da0_0242ac1c0002row1_col0,#T_54ce84a0_d252_11eb_9da0_0242ac1c0002row2_col0,#T_54ce84a0_d252_11eb_9da0_0242ac1c0002row2_col4,#T_54ce84a0_d252_11eb_9da0_0242ac1c0002row2_col5,#T_54ce84a0_d252_11eb_9da0_0242ac1c0002row3_col4,#T_54ce84a0_d252_11eb_9da0_0242ac1c0002row3_col5{\n",
              "            background-color:  #000080;\n",
              "            color:  #f1f1f1;\n",
              "        }#T_54ce84a0_d252_11eb_9da0_0242ac1c0002row0_col4,#T_54ce84a0_d252_11eb_9da0_0242ac1c0002row1_col4{\n",
              "            background-color:  #7dff7a;\n",
              "            color:  #000000;\n",
              "        }#T_54ce84a0_d252_11eb_9da0_0242ac1c0002row1_col1{\n",
              "            background-color:  #002cff;\n",
              "            color:  #f1f1f1;\n",
              "        }#T_54ce84a0_d252_11eb_9da0_0242ac1c0002row1_col2{\n",
              "            background-color:  #0030ff;\n",
              "            color:  #f1f1f1;\n",
              "        }#T_54ce84a0_d252_11eb_9da0_0242ac1c0002row1_col3{\n",
              "            background-color:  #0098ff;\n",
              "            color:  #000000;\n",
              "        }#T_54ce84a0_d252_11eb_9da0_0242ac1c0002row1_col5,#T_54ce84a0_d252_11eb_9da0_0242ac1c0002row3_col0,#T_54ce84a0_d252_11eb_9da0_0242ac1c0002row4_col0,#T_54ce84a0_d252_11eb_9da0_0242ac1c0002row4_col1,#T_54ce84a0_d252_11eb_9da0_0242ac1c0002row4_col2,#T_54ce84a0_d252_11eb_9da0_0242ac1c0002row4_col3,#T_54ce84a0_d252_11eb_9da0_0242ac1c0002row4_col4,#T_54ce84a0_d252_11eb_9da0_0242ac1c0002row4_col5,#T_54ce84a0_d252_11eb_9da0_0242ac1c0002row4_col6{\n",
              "            background-color:  #800000;\n",
              "            color:  #f1f1f1;\n",
              "        }#T_54ce84a0_d252_11eb_9da0_0242ac1c0002row1_col6{\n",
              "            background-color:  #003cff;\n",
              "            color:  #f1f1f1;\n",
              "        }#T_54ce84a0_d252_11eb_9da0_0242ac1c0002row2_col1{\n",
              "            background-color:  #1fffd7;\n",
              "            color:  #000000;\n",
              "        }#T_54ce84a0_d252_11eb_9da0_0242ac1c0002row2_col2{\n",
              "            background-color:  #06ecf1;\n",
              "            color:  #000000;\n",
              "        }#T_54ce84a0_d252_11eb_9da0_0242ac1c0002row2_col3{\n",
              "            background-color:  #0074ff;\n",
              "            color:  #f1f1f1;\n",
              "        }#T_54ce84a0_d252_11eb_9da0_0242ac1c0002row2_col6{\n",
              "            background-color:  #00dcfe;\n",
              "            color:  #000000;\n",
              "        }#T_54ce84a0_d252_11eb_9da0_0242ac1c0002row3_col1{\n",
              "            background-color:  #00a8ff;\n",
              "            color:  #000000;\n",
              "        }#T_54ce84a0_d252_11eb_9da0_0242ac1c0002row3_col2{\n",
              "            background-color:  #008cff;\n",
              "            color:  #000000;\n",
              "        }#T_54ce84a0_d252_11eb_9da0_0242ac1c0002row3_col3{\n",
              "            background-color:  #0000cd;\n",
              "            color:  #f1f1f1;\n",
              "        }#T_54ce84a0_d252_11eb_9da0_0242ac1c0002row3_col6{\n",
              "            background-color:  #0078ff;\n",
              "            color:  #f1f1f1;\n",
              "        }</style><table id=\"T_54ce84a0_d252_11eb_9da0_0242ac1c0002\" ><thead>    <tr>        <th class=\"blank\" ></th>        <th class=\"index_name level0\" >chol</th>        <th class=\"col_heading level0 col0\" >0</th>        <th class=\"col_heading level0 col1\" >1</th>        <th class=\"col_heading level0 col2\" >2</th>        <th class=\"col_heading level0 col3\" >3</th>        <th class=\"col_heading level0 col4\" >4</th>        <th class=\"col_heading level0 col5\" >5</th>        <th class=\"col_heading level0 col6\" >All</th>    </tr>    <tr>        <th class=\"index_name level0\" >sex</th>        <th class=\"index_name level1\" >target</th>        <th class=\"blank\" ></th>        <th class=\"blank\" ></th>        <th class=\"blank\" ></th>        <th class=\"blank\" ></th>        <th class=\"blank\" ></th>        <th class=\"blank\" ></th>        <th class=\"blank\" ></th>    </tr></thead><tbody>\n",
              "                <tr>\n",
              "                        <th id=\"T_54ce84a0_d252_11eb_9da0_0242ac1c0002level0_row0\" class=\"row_heading level0 row0\" rowspan=2>0</th>\n",
              "                        <th id=\"T_54ce84a0_d252_11eb_9da0_0242ac1c0002level1_row0\" class=\"row_heading level1 row0\" >0</th>\n",
              "                        <td id=\"T_54ce84a0_d252_11eb_9da0_0242ac1c0002row0_col0\" class=\"data row0 col0\" >0</td>\n",
              "                        <td id=\"T_54ce84a0_d252_11eb_9da0_0242ac1c0002row0_col1\" class=\"data row0 col1\" >2</td>\n",
              "                        <td id=\"T_54ce84a0_d252_11eb_9da0_0242ac1c0002row0_col2\" class=\"data row0 col2\" >11</td>\n",
              "                        <td id=\"T_54ce84a0_d252_11eb_9da0_0242ac1c0002row0_col3\" class=\"data row0 col3\" >4</td>\n",
              "                        <td id=\"T_54ce84a0_d252_11eb_9da0_0242ac1c0002row0_col4\" class=\"data row0 col4\" >1</td>\n",
              "                        <td id=\"T_54ce84a0_d252_11eb_9da0_0242ac1c0002row0_col5\" class=\"data row0 col5\" >0</td>\n",
              "                        <td id=\"T_54ce84a0_d252_11eb_9da0_0242ac1c0002row0_col6\" class=\"data row0 col6\" >18</td>\n",
              "            </tr>\n",
              "            <tr>\n",
              "                                <th id=\"T_54ce84a0_d252_11eb_9da0_0242ac1c0002level1_row1\" class=\"row_heading level1 row1\" >1</th>\n",
              "                        <td id=\"T_54ce84a0_d252_11eb_9da0_0242ac1c0002row1_col0\" class=\"data row1 col0\" >0</td>\n",
              "                        <td id=\"T_54ce84a0_d252_11eb_9da0_0242ac1c0002row1_col1\" class=\"data row1 col1\" >9</td>\n",
              "                        <td id=\"T_54ce84a0_d252_11eb_9da0_0242ac1c0002row1_col2\" class=\"data row1 col2\" >39</td>\n",
              "                        <td id=\"T_54ce84a0_d252_11eb_9da0_0242ac1c0002row1_col3\" class=\"data row1 col3\" >12</td>\n",
              "                        <td id=\"T_54ce84a0_d252_11eb_9da0_0242ac1c0002row1_col4\" class=\"data row1 col4\" >1</td>\n",
              "                        <td id=\"T_54ce84a0_d252_11eb_9da0_0242ac1c0002row1_col5\" class=\"data row1 col5\" >1</td>\n",
              "                        <td id=\"T_54ce84a0_d252_11eb_9da0_0242ac1c0002row1_col6\" class=\"data row1 col6\" >62</td>\n",
              "            </tr>\n",
              "            <tr>\n",
              "                        <th id=\"T_54ce84a0_d252_11eb_9da0_0242ac1c0002level0_row2\" class=\"row_heading level0 row2\" rowspan=2>1</th>\n",
              "                        <th id=\"T_54ce84a0_d252_11eb_9da0_0242ac1c0002level1_row2\" class=\"row_heading level1 row2\" >0</th>\n",
              "                        <td id=\"T_54ce84a0_d252_11eb_9da0_0242ac1c0002row2_col0\" class=\"data row2 col0\" >0</td>\n",
              "                        <td id=\"T_54ce84a0_d252_11eb_9da0_0242ac1c0002row2_col1\" class=\"data row2 col1\" >18</td>\n",
              "                        <td id=\"T_54ce84a0_d252_11eb_9da0_0242ac1c0002row2_col2\" class=\"data row2 col2\" >69</td>\n",
              "                        <td id=\"T_54ce84a0_d252_11eb_9da0_0242ac1c0002row2_col3\" class=\"data row2 col3\" >11</td>\n",
              "                        <td id=\"T_54ce84a0_d252_11eb_9da0_0242ac1c0002row2_col4\" class=\"data row2 col4\" >0</td>\n",
              "                        <td id=\"T_54ce84a0_d252_11eb_9da0_0242ac1c0002row2_col5\" class=\"data row2 col5\" >0</td>\n",
              "                        <td id=\"T_54ce84a0_d252_11eb_9da0_0242ac1c0002row2_col6\" class=\"data row2 col6\" >98</td>\n",
              "            </tr>\n",
              "            <tr>\n",
              "                                <th id=\"T_54ce84a0_d252_11eb_9da0_0242ac1c0002level1_row3\" class=\"row_heading level1 row3\" >1</th>\n",
              "                        <td id=\"T_54ce84a0_d252_11eb_9da0_0242ac1c0002row3_col0\" class=\"data row3 col0\" >1</td>\n",
              "                        <td id=\"T_54ce84a0_d252_11eb_9da0_0242ac1c0002row3_col1\" class=\"data row3 col1\" >14</td>\n",
              "                        <td id=\"T_54ce84a0_d252_11eb_9da0_0242ac1c0002row3_col2\" class=\"data row3 col2\" >54</td>\n",
              "                        <td id=\"T_54ce84a0_d252_11eb_9da0_0242ac1c0002row3_col3\" class=\"data row3 col3\" >6</td>\n",
              "                        <td id=\"T_54ce84a0_d252_11eb_9da0_0242ac1c0002row3_col4\" class=\"data row3 col4\" >0</td>\n",
              "                        <td id=\"T_54ce84a0_d252_11eb_9da0_0242ac1c0002row3_col5\" class=\"data row3 col5\" >0</td>\n",
              "                        <td id=\"T_54ce84a0_d252_11eb_9da0_0242ac1c0002row3_col6\" class=\"data row3 col6\" >75</td>\n",
              "            </tr>\n",
              "            <tr>\n",
              "                        <th id=\"T_54ce84a0_d252_11eb_9da0_0242ac1c0002level0_row4\" class=\"row_heading level0 row4\" >All</th>\n",
              "                        <th id=\"T_54ce84a0_d252_11eb_9da0_0242ac1c0002level1_row4\" class=\"row_heading level1 row4\" ></th>\n",
              "                        <td id=\"T_54ce84a0_d252_11eb_9da0_0242ac1c0002row4_col0\" class=\"data row4 col0\" >1</td>\n",
              "                        <td id=\"T_54ce84a0_d252_11eb_9da0_0242ac1c0002row4_col1\" class=\"data row4 col1\" >43</td>\n",
              "                        <td id=\"T_54ce84a0_d252_11eb_9da0_0242ac1c0002row4_col2\" class=\"data row4 col2\" >173</td>\n",
              "                        <td id=\"T_54ce84a0_d252_11eb_9da0_0242ac1c0002row4_col3\" class=\"data row4 col3\" >33</td>\n",
              "                        <td id=\"T_54ce84a0_d252_11eb_9da0_0242ac1c0002row4_col4\" class=\"data row4 col4\" >2</td>\n",
              "                        <td id=\"T_54ce84a0_d252_11eb_9da0_0242ac1c0002row4_col5\" class=\"data row4 col5\" >1</td>\n",
              "                        <td id=\"T_54ce84a0_d252_11eb_9da0_0242ac1c0002row4_col6\" class=\"data row4 col6\" >253</td>\n",
              "            </tr>\n",
              "    </tbody></table>"
            ],
            "text/plain": [
              "<pandas.io.formats.style.Styler at 0x7f9f4166df90>"
            ]
          },
          "metadata": {
            "tags": []
          },
          "execution_count": 54
        }
      ]
    },
    {
      "cell_type": "markdown",
      "metadata": {
        "id": "lv8qzQY2C_7U"
      },
      "source": [
        "# Test train split"
      ]
    },
    {
      "cell_type": "code",
      "metadata": {
        "id": "deZZUgDTbiKC",
        "trusted": true,
        "colab": {
          "base_uri": "https://localhost:8080/",
          "height": 417
        },
        "outputId": "45b2b43c-8f67-4be5-dcf0-843805d0a220"
      },
      "source": [
        "y=data['target']\n",
        "x=data.drop('target',axis=1)\n",
        "x"
      ],
      "execution_count": 55,
      "outputs": [
        {
          "output_type": "execute_result",
          "data": {
            "text/html": [
              "<div>\n",
              "<style scoped>\n",
              "    .dataframe tbody tr th:only-of-type {\n",
              "        vertical-align: middle;\n",
              "    }\n",
              "\n",
              "    .dataframe tbody tr th {\n",
              "        vertical-align: top;\n",
              "    }\n",
              "\n",
              "    .dataframe thead th {\n",
              "        text-align: right;\n",
              "    }\n",
              "</style>\n",
              "<table border=\"1\" class=\"dataframe\">\n",
              "  <thead>\n",
              "    <tr style=\"text-align: right;\">\n",
              "      <th></th>\n",
              "      <th>ID</th>\n",
              "      <th>age</th>\n",
              "      <th>sex</th>\n",
              "      <th>cp</th>\n",
              "      <th>trestbps</th>\n",
              "      <th>chol</th>\n",
              "      <th>fbs</th>\n",
              "      <th>restecg</th>\n",
              "      <th>thalach</th>\n",
              "      <th>exang</th>\n",
              "      <th>oldpeak</th>\n",
              "      <th>slope</th>\n",
              "      <th>ca</th>\n",
              "      <th>thal</th>\n",
              "    </tr>\n",
              "  </thead>\n",
              "  <tbody>\n",
              "    <tr>\n",
              "      <th>0</th>\n",
              "      <td>1</td>\n",
              "      <td>4</td>\n",
              "      <td>0</td>\n",
              "      <td>2</td>\n",
              "      <td>2</td>\n",
              "      <td>4</td>\n",
              "      <td>1</td>\n",
              "      <td>0</td>\n",
              "      <td>3</td>\n",
              "      <td>0</td>\n",
              "      <td>6</td>\n",
              "      <td>2</td>\n",
              "      <td>1</td>\n",
              "      <td>2</td>\n",
              "    </tr>\n",
              "    <tr>\n",
              "      <th>1</th>\n",
              "      <td>1</td>\n",
              "      <td>2</td>\n",
              "      <td>1</td>\n",
              "      <td>0</td>\n",
              "      <td>2</td>\n",
              "      <td>2</td>\n",
              "      <td>0</td>\n",
              "      <td>0</td>\n",
              "      <td>5</td>\n",
              "      <td>0</td>\n",
              "      <td>0</td>\n",
              "      <td>2</td>\n",
              "      <td>0</td>\n",
              "      <td>2</td>\n",
              "    </tr>\n",
              "    <tr>\n",
              "      <th>2</th>\n",
              "      <td>1</td>\n",
              "      <td>3</td>\n",
              "      <td>1</td>\n",
              "      <td>2</td>\n",
              "      <td>4</td>\n",
              "      <td>1</td>\n",
              "      <td>1</td>\n",
              "      <td>1</td>\n",
              "      <td>4</td>\n",
              "      <td>0</td>\n",
              "      <td>5</td>\n",
              "      <td>2</td>\n",
              "      <td>0</td>\n",
              "      <td>3</td>\n",
              "    </tr>\n",
              "    <tr>\n",
              "      <th>3</th>\n",
              "      <td>3</td>\n",
              "      <td>2</td>\n",
              "      <td>0</td>\n",
              "      <td>2</td>\n",
              "      <td>1</td>\n",
              "      <td>2</td>\n",
              "      <td>0</td>\n",
              "      <td>1</td>\n",
              "      <td>3</td>\n",
              "      <td>0</td>\n",
              "      <td>3</td>\n",
              "      <td>1</td>\n",
              "      <td>1</td>\n",
              "      <td>2</td>\n",
              "    </tr>\n",
              "    <tr>\n",
              "      <th>4</th>\n",
              "      <td>5</td>\n",
              "      <td>3</td>\n",
              "      <td>0</td>\n",
              "      <td>1</td>\n",
              "      <td>2</td>\n",
              "      <td>2</td>\n",
              "      <td>0</td>\n",
              "      <td>0</td>\n",
              "      <td>4</td>\n",
              "      <td>0</td>\n",
              "      <td>0</td>\n",
              "      <td>1</td>\n",
              "      <td>1</td>\n",
              "      <td>2</td>\n",
              "    </tr>\n",
              "    <tr>\n",
              "      <th>...</th>\n",
              "      <td>...</td>\n",
              "      <td>...</td>\n",
              "      <td>...</td>\n",
              "      <td>...</td>\n",
              "      <td>...</td>\n",
              "      <td>...</td>\n",
              "      <td>...</td>\n",
              "      <td>...</td>\n",
              "      <td>...</td>\n",
              "      <td>...</td>\n",
              "      <td>...</td>\n",
              "      <td>...</td>\n",
              "      <td>...</td>\n",
              "      <td>...</td>\n",
              "    </tr>\n",
              "    <tr>\n",
              "      <th>248</th>\n",
              "      <td>4</td>\n",
              "      <td>1</td>\n",
              "      <td>1</td>\n",
              "      <td>0</td>\n",
              "      <td>1</td>\n",
              "      <td>1</td>\n",
              "      <td>0</td>\n",
              "      <td>1</td>\n",
              "      <td>2</td>\n",
              "      <td>1</td>\n",
              "      <td>6</td>\n",
              "      <td>1</td>\n",
              "      <td>0</td>\n",
              "      <td>3</td>\n",
              "    </tr>\n",
              "    <tr>\n",
              "      <th>249</th>\n",
              "      <td>2</td>\n",
              "      <td>2</td>\n",
              "      <td>1</td>\n",
              "      <td>2</td>\n",
              "      <td>2</td>\n",
              "      <td>2</td>\n",
              "      <td>1</td>\n",
              "      <td>1</td>\n",
              "      <td>4</td>\n",
              "      <td>0</td>\n",
              "      <td>0</td>\n",
              "      <td>2</td>\n",
              "      <td>2</td>\n",
              "      <td>2</td>\n",
              "    </tr>\n",
              "    <tr>\n",
              "      <th>250</th>\n",
              "      <td>2</td>\n",
              "      <td>4</td>\n",
              "      <td>1</td>\n",
              "      <td>1</td>\n",
              "      <td>2</td>\n",
              "      <td>2</td>\n",
              "      <td>1</td>\n",
              "      <td>0</td>\n",
              "      <td>2</td>\n",
              "      <td>0</td>\n",
              "      <td>0</td>\n",
              "      <td>2</td>\n",
              "      <td>0</td>\n",
              "      <td>2</td>\n",
              "    </tr>\n",
              "    <tr>\n",
              "      <th>251</th>\n",
              "      <td>3</td>\n",
              "      <td>3</td>\n",
              "      <td>1</td>\n",
              "      <td>0</td>\n",
              "      <td>2</td>\n",
              "      <td>2</td>\n",
              "      <td>0</td>\n",
              "      <td>0</td>\n",
              "      <td>3</td>\n",
              "      <td>1</td>\n",
              "      <td>6</td>\n",
              "      <td>1</td>\n",
              "      <td>1</td>\n",
              "      <td>3</td>\n",
              "    </tr>\n",
              "    <tr>\n",
              "      <th>252</th>\n",
              "      <td>1</td>\n",
              "      <td>3</td>\n",
              "      <td>1</td>\n",
              "      <td>1</td>\n",
              "      <td>1</td>\n",
              "      <td>3</td>\n",
              "      <td>0</td>\n",
              "      <td>1</td>\n",
              "      <td>4</td>\n",
              "      <td>0</td>\n",
              "      <td>2</td>\n",
              "      <td>2</td>\n",
              "      <td>0</td>\n",
              "      <td>2</td>\n",
              "    </tr>\n",
              "  </tbody>\n",
              "</table>\n",
              "<p>253 rows × 14 columns</p>\n",
              "</div>"
            ],
            "text/plain": [
              "     ID  age  sex  cp  trestbps  chol  ...  thalach  exang  oldpeak  slope  ca  thal\n",
              "0     1    4    0   2         2     4  ...        3      0        6      2   1     2\n",
              "1     1    2    1   0         2     2  ...        5      0        0      2   0     2\n",
              "2     1    3    1   2         4     1  ...        4      0        5      2   0     3\n",
              "3     3    2    0   2         1     2  ...        3      0        3      1   1     2\n",
              "4     5    3    0   1         2     2  ...        4      0        0      1   1     2\n",
              "..   ..  ...  ...  ..       ...   ...  ...      ...    ...      ...    ...  ..   ...\n",
              "248   4    1    1   0         1     1  ...        2      1        6      1   0     3\n",
              "249   2    2    1   2         2     2  ...        4      0        0      2   2     2\n",
              "250   2    4    1   1         2     2  ...        2      0        0      2   0     2\n",
              "251   3    3    1   0         2     2  ...        3      1        6      1   1     3\n",
              "252   1    3    1   1         1     3  ...        4      0        2      2   0     2\n",
              "\n",
              "[253 rows x 14 columns]"
            ]
          },
          "metadata": {
            "tags": []
          },
          "execution_count": 55
        }
      ]
    },
    {
      "cell_type": "code",
      "metadata": {
        "id": "Q6u2uhNHb5U2",
        "trusted": true,
        "colab": {
          "base_uri": "https://localhost:8080/"
        },
        "outputId": "f53f5218-ffbe-4d71-99ad-a5240a6b33f2"
      },
      "source": [
        "from sklearn.model_selection import train_test_split\n",
        "x_train, x_test, y_train, y_test = train_test_split(x, y, test_size=0.3,random_state=2)\n",
        "x_train.shape, x_test.shape, y_train.shape, y_test.shape"
      ],
      "execution_count": 56,
      "outputs": [
        {
          "output_type": "execute_result",
          "data": {
            "text/plain": [
              "((177, 14), (76, 14), (177,), (76,))"
            ]
          },
          "metadata": {
            "tags": []
          },
          "execution_count": 56
        }
      ]
    },
    {
      "cell_type": "markdown",
      "metadata": {
        "id": "iHbxpyZwi9BK"
      },
      "source": [
        "#logistic regression"
      ]
    },
    {
      "cell_type": "code",
      "metadata": {
        "id": "YVo6i0Zxb-TB",
        "trusted": true
      },
      "source": [
        "from sklearn.linear_model import LogisticRegression\n",
        "from sklearn.model_selection import GridSearchCV\n",
        "from sklearn.model_selection import  StratifiedKFold"
      ],
      "execution_count": 57,
      "outputs": []
    },
    {
      "cell_type": "code",
      "metadata": {
        "id": "9-fMLbeyiKwE",
        "trusted": true,
        "colab": {
          "base_uri": "https://localhost:8080/"
        },
        "outputId": "bb5ca8d8-751f-4113-c6b1-038983fbe6c7"
      },
      "source": [
        "fold = StratifiedKFold(n_splits=5,random_state=1,shuffle=True)\n",
        "fold.get_n_splits(x_train,y_train)"
      ],
      "execution_count": 58,
      "outputs": [
        {
          "output_type": "execute_result",
          "data": {
            "text/plain": [
              "5"
            ]
          },
          "metadata": {
            "tags": []
          },
          "execution_count": 58
        }
      ]
    },
    {
      "cell_type": "code",
      "metadata": {
        "id": "r3vVA6HNcMmI",
        "trusted": true,
        "colab": {
          "base_uri": "https://localhost:8080/"
        },
        "outputId": "4f27ae87-6cca-4851-8546-92eb7b9a1b78"
      },
      "source": [
        "parameters={\"solver\":(\"newton-cg\",\"liblinear\"),\"C\":[1,10,15,20]}\n",
        "model=LogisticRegression(penalty=\"l2\",n_jobs=-2,max_iter=1000)\n",
        "log_reg=GridSearchCV(model,parameters,n_jobs=-2,cv=fold)\n",
        "log_reg.fit(x_train,y_train)"
      ],
      "execution_count": 59,
      "outputs": [
        {
          "output_type": "execute_result",
          "data": {
            "text/plain": [
              "GridSearchCV(cv=StratifiedKFold(n_splits=5, random_state=1, shuffle=True),\n",
              "             error_score=nan,\n",
              "             estimator=LogisticRegression(C=1.0, class_weight=None, dual=False,\n",
              "                                          fit_intercept=True,\n",
              "                                          intercept_scaling=1, l1_ratio=None,\n",
              "                                          max_iter=1000, multi_class='auto',\n",
              "                                          n_jobs=-2, penalty='l2',\n",
              "                                          random_state=None, solver='lbfgs',\n",
              "                                          tol=0.0001, verbose=0,\n",
              "                                          warm_start=False),\n",
              "             iid='deprecated', n_jobs=-2,\n",
              "             param_grid={'C': [1, 10, 15, 20],\n",
              "                         'solver': ('newton-cg', 'liblinear')},\n",
              "             pre_dispatch='2*n_jobs', refit=True, return_train_score=False,\n",
              "             scoring=None, verbose=0)"
            ]
          },
          "metadata": {
            "tags": []
          },
          "execution_count": 59
        }
      ]
    },
    {
      "cell_type": "code",
      "metadata": {
        "id": "6ow4xgxsccaq",
        "trusted": true,
        "colab": {
          "base_uri": "https://localhost:8080/"
        },
        "outputId": "1ef13216-3182-40d6-e7b8-76ab9d371d1e"
      },
      "source": [
        "print(log_reg.best_params_)"
      ],
      "execution_count": 60,
      "outputs": [
        {
          "output_type": "stream",
          "text": [
            "{'C': 1, 'solver': 'newton-cg'}\n"
          ],
          "name": "stdout"
        }
      ]
    },
    {
      "cell_type": "code",
      "metadata": {
        "id": "rBtaww2ncdsK",
        "trusted": true,
        "colab": {
          "base_uri": "https://localhost:8080/"
        },
        "outputId": "fa8bb3e5-c878-4412-e8fa-d9d5faa22586"
      },
      "source": [
        "yt_pred__log_reg=log_reg.predict(x_test)\n",
        "from sklearn.metrics import classification_report,accuracy_score\n",
        "print(classification_report(y_test,yt_pred__log_reg))\n",
        "ac=accuracy_score(y_test,yt_pred__log_reg)\n",
        "print(\"test accuracy = {} %\",format(ac*100))"
      ],
      "execution_count": 61,
      "outputs": [
        {
          "output_type": "stream",
          "text": [
            "              precision    recall  f1-score   support\n",
            "\n",
            "           0       0.92      0.97      0.94        34\n",
            "           1       0.97      0.93      0.95        42\n",
            "\n",
            "    accuracy                           0.95        76\n",
            "   macro avg       0.95      0.95      0.95        76\n",
            "weighted avg       0.95      0.95      0.95        76\n",
            "\n",
            "test accuracy = {} % 94.73684210526315\n"
          ],
          "name": "stdout"
        }
      ]
    },
    {
      "cell_type": "code",
      "metadata": {
        "id": "LKFzucVpB6jz",
        "trusted": true,
        "colab": {
          "base_uri": "https://localhost:8080/"
        },
        "outputId": "b64e1f23-6117-4aab-80b7-266b1eb00be4"
      },
      "source": [
        "logreg_probs = log_reg.predict_proba(x_test)\n",
        "logreg_probs = logreg_probs[:, 1]\n",
        "from sklearn.metrics import roc_auc_score\n",
        "logreg_auc = roc_auc_score(y_test, logreg_probs)\n",
        "print('Logistic: ROC AUC= {} %'.format(round(logreg_auc, 3)*100))"
      ],
      "execution_count": 62,
      "outputs": [
        {
          "output_type": "stream",
          "text": [
            "Logistic: ROC AUC= 99.2 %\n"
          ],
          "name": "stdout"
        }
      ]
    },
    {
      "cell_type": "code",
      "metadata": {
        "id": "_8VTT2nuCdfY",
        "trusted": true,
        "colab": {
          "base_uri": "https://localhost:8080/",
          "height": 497
        },
        "outputId": "48d4840d-54f3-4261-e9a2-0742592b05cb"
      },
      "source": [
        "from sklearn.metrics import roc_curve\n",
        "logreg_fpr, logreg_tpr, lr_thres = roc_curve(y_test, logreg_probs)\n",
        "fig, ax = plt.subplots(figsize=(10, 8))\n",
        "ax.plot(logreg_fpr, logreg_tpr, marker='.', label='Logistic')\n",
        "plt.xlabel('False Positive Rate')\n",
        "plt.ylabel('True Positive Rate')\n",
        "plt.legend(loc=5)\n",
        "plt.show()"
      ],
      "execution_count": 63,
      "outputs": [
        {
          "output_type": "display_data",
          "data": {
            "image/png": "[encoded data removed]",
            "text/plain": [
              "<Figure size 720x576 with 1 Axes>"
            ]
          },
          "metadata": {
            "tags": [],
            "needs_background": "light"
          }
        }
      ]
    },
    {
      "cell_type": "markdown",
      "metadata": {
        "id": "hVcmn1uNjAru"
      },
      "source": [
        "#KNN"
      ]
    },
    {
      "cell_type": "code",
      "metadata": {
        "id": "e_b3GurlcmAY",
        "trusted": true,
        "colab": {
          "base_uri": "https://localhost:8080/"
        },
        "outputId": "9d78dc93-ab6b-4eed-aebc-2734feba83c8"
      },
      "source": [
        "from sklearn.neighbors import KNeighborsClassifier\n",
        "from sklearn.metrics import fbeta_score,make_scorer\n",
        "f_scorer = make_scorer(fbeta_score,beta=1,pos_label=1)\n",
        "params={\"n_neighbors\":[1,2,100,10,5,6]}\n",
        "KNN=KNeighborsClassifier(algorithm=\"brute\")\n",
        "Knn_grid= GridSearchCV(KNN,params,n_jobs=-2,cv=fold,scoring=f_scorer,verbose=True)\n",
        "Knn_grid.fit(x_train,y_train)"
      ],
      "execution_count": 64,
      "outputs": [
        {
          "output_type": "stream",
          "text": [
            "Fitting 5 folds for each of 6 candidates, totalling 30 fits\n"
          ],
          "name": "stdout"
        },
        {
          "output_type": "stream",
          "text": [
            "[Parallel(n_jobs=-2)]: Using backend SequentialBackend with 1 concurrent workers.\n",
            "[Parallel(n_jobs=-2)]: Done  30 out of  30 | elapsed:    0.2s finished\n"
          ],
          "name": "stderr"
        },
        {
          "output_type": "execute_result",
          "data": {
            "text/plain": [
              "GridSearchCV(cv=StratifiedKFold(n_splits=5, random_state=1, shuffle=True),\n",
              "             error_score=nan,\n",
              "             estimator=KNeighborsClassifier(algorithm='brute', leaf_size=30,\n",
              "                                            metric='minkowski',\n",
              "                                            metric_params=None, n_jobs=None,\n",
              "                                            n_neighbors=5, p=2,\n",
              "                                            weights='uniform'),\n",
              "             iid='deprecated', n_jobs=-2,\n",
              "             param_grid={'n_neighbors': [1, 2, 100, 10, 5, 6]},\n",
              "             pre_dispatch='2*n_jobs', refit=True, return_train_score=False,\n",
              "             scoring=make_scorer(fbeta_score, beta=1, pos_label=1),\n",
              "             verbose=True)"
            ]
          },
          "metadata": {
            "tags": []
          },
          "execution_count": 64
        }
      ]
    },
    {
      "cell_type": "code",
      "metadata": {
        "id": "UvVLBX_afwqN",
        "trusted": true,
        "colab": {
          "base_uri": "https://localhost:8080/"
        },
        "outputId": "c42a0fc6-3068-4415-e31e-d9e86923bb24"
      },
      "source": [
        "print(Knn_grid.best_params_)"
      ],
      "execution_count": 65,
      "outputs": [
        {
          "output_type": "stream",
          "text": [
            "{'n_neighbors': 5}\n"
          ],
          "name": "stdout"
        }
      ]
    },
    {
      "cell_type": "code",
      "metadata": {
        "id": "1s4bR2dIjXvk",
        "trusted": true,
        "colab": {
          "base_uri": "https://localhost:8080/"
        },
        "outputId": "d21d767d-4cb5-4a25-e3e6-5f4cd758df30"
      },
      "source": [
        "yt_pred__Knn=Knn_grid.predict(x_test)\n",
        "print(classification_report(y_test,yt_pred__Knn))\n",
        "ac_knn=accuracy_score(y_test,yt_pred__Knn)\n",
        "print(\"test accuracy = {} %\",format(ac_knn*100))"
      ],
      "execution_count": 66,
      "outputs": [
        {
          "output_type": "stream",
          "text": [
            "              precision    recall  f1-score   support\n",
            "\n",
            "           0       0.86      0.91      0.89        34\n",
            "           1       0.93      0.88      0.90        42\n",
            "\n",
            "    accuracy                           0.89        76\n",
            "   macro avg       0.89      0.90      0.89        76\n",
            "weighted avg       0.90      0.89      0.89        76\n",
            "\n",
            "test accuracy = {} % 89.47368421052632\n"
          ],
          "name": "stdout"
        }
      ]
    },
    {
      "cell_type": "code",
      "metadata": {
        "id": "tGDWhUNqD6gm",
        "trusted": true,
        "colab": {
          "base_uri": "https://localhost:8080/"
        },
        "outputId": "c0c839e5-44a0-4cba-c078-3ac000011806"
      },
      "source": [
        "Knn_grid_probs = Knn_grid.predict_proba(x_test)\n",
        "Knn_grid_probs = Knn_grid_probs[:, 1]\n",
        "Knn_grid_auc = roc_auc_score(y_test, Knn_grid_probs)\n",
        "print('KNN: ROC AUC= {} %'.format(round(Knn_grid_auc, 3)*100))"
      ],
      "execution_count": 67,
      "outputs": [
        {
          "output_type": "stream",
          "text": [
            "KNN: ROC AUC= 97.2 %\n"
          ],
          "name": "stdout"
        }
      ]
    },
    {
      "cell_type": "code",
      "metadata": {
        "id": "wj9aFdiCEQu-",
        "trusted": true,
        "colab": {
          "base_uri": "https://localhost:8080/",
          "height": 497
        },
        "outputId": "2a69f89f-6af4-46db-82b5-27232d690e61"
      },
      "source": [
        "fig, ax = plt.subplots(figsize=(10, 8))\n",
        "Knn_fpr, Knn_tpr, Knn_thres = roc_curve(y_test, Knn_grid_probs)\n",
        "ax.plot(Knn_fpr, Knn_tpr, marker='.', label='KNN')\n",
        "plt.xlabel('False Positive Rate')\n",
        "plt.ylabel('True Positive Rate')\n",
        "plt.legend(loc=5)\n",
        "plt.show()"
      ],
      "execution_count": 68,
      "outputs": [
        {
          "output_type": "display_data",
          "data": {
            "image/png": "[encoded data removed]",
            "text/plain": [
              "<Figure size 720x576 with 1 Axes>"
            ]
          },
          "metadata": {
            "tags": [],
            "needs_background": "light"
          }
        }
      ]
    },
    {
      "cell_type": "markdown",
      "metadata": {
        "id": "gsMg1xDCjkBy"
      },
      "source": [
        "#decision tree"
      ]
    },
    {
      "cell_type": "code",
      "metadata": {
        "id": "IlZ4p_nqjeWs",
        "trusted": true,
        "colab": {
          "base_uri": "https://localhost:8080/"
        },
        "outputId": "b070d114-4783-467e-9c64-c4a2f1b106bf"
      },
      "source": [
        "from sklearn.tree import DecisionTreeClassifier\n",
        "dtree = DecisionTreeClassifier(criterion=\"gini\")\n",
        "dtree.fit(x_train,y_train)"
      ],
      "execution_count": 69,
      "outputs": [
        {
          "output_type": "execute_result",
          "data": {
            "text/plain": [
              "DecisionTreeClassifier(ccp_alpha=0.0, class_weight=None, criterion='gini',\n",
              "                       max_depth=None, max_features=None, max_leaf_nodes=None,\n",
              "                       min_impurity_decrease=0.0, min_impurity_split=None,\n",
              "                       min_samples_leaf=1, min_samples_split=2,\n",
              "                       min_weight_fraction_leaf=0.0, presort='deprecated',\n",
              "                       random_state=None, splitter='best')"
            ]
          },
          "metadata": {
            "tags": []
          },
          "execution_count": 69
        }
      ]
    },
    {
      "cell_type": "code",
      "metadata": {
        "id": "zDpOc2xkjsQi",
        "trusted": true,
        "colab": {
          "base_uri": "https://localhost:8080/"
        },
        "outputId": "168be607-7d17-46a5-f532-9c3eb7895441"
      },
      "source": [
        "y_pred_dtree= dtree.predict(x_test)\n",
        "print(classification_report(y_test, y_pred_dtree))\n",
        "ac_dtree=accuracy_score(y_test,y_pred_dtree)\n",
        "print(\"test accuracy = {} %\",format(ac_dtree*100))"
      ],
      "execution_count": 70,
      "outputs": [
        {
          "output_type": "stream",
          "text": [
            "              precision    recall  f1-score   support\n",
            "\n",
            "           0       0.97      0.94      0.96        34\n",
            "           1       0.95      0.98      0.96        42\n",
            "\n",
            "    accuracy                           0.96        76\n",
            "   macro avg       0.96      0.96      0.96        76\n",
            "weighted avg       0.96      0.96      0.96        76\n",
            "\n",
            "test accuracy = {} % 96.05263157894737\n"
          ],
          "name": "stdout"
        }
      ]
    },
    {
      "cell_type": "code",
      "metadata": {
        "id": "AmfMqQG0j2LX",
        "trusted": true
      },
      "source": [
        "prune_path = dtree.cost_complexity_pruning_path(x_train, y_train)\n",
        "alphas = prune_path.ccp_alphas\n",
        "impurities = prune_path.impurities\n",
        "\n",
        "new_dTrees = []\n",
        "i=0\n",
        "\n",
        "for alpha in alphas:\n",
        "    new_dTree = DecisionTreeClassifier(criterion='gini', ccp_alpha=alpha)\n",
        "    new_dTree.fit(x_train, y_train)\n",
        "    \n",
        "    new_dTrees.append(new_dTree)"
      ],
      "execution_count": 71,
      "outputs": []
    },
    {
      "cell_type": "code",
      "metadata": {
        "id": "MC7hQSD6j-jN",
        "trusted": true,
        "colab": {
          "base_uri": "https://localhost:8080/"
        },
        "outputId": "79e705c3-6d2a-492e-fae6-461b03824bc0"
      },
      "source": [
        "test_scores = [new_dTree.score(x_test, y_test) for new_dTree in new_dTrees]\n",
        "print('max f1 test_score = {}'.format(max(test_scores)))\n",
        "print('position of max f1 = {}'.format(np.argmax(test_scores)))\n",
        "\n",
        "pruned_dTree = DecisionTreeClassifier(criterion='gini', ccp_alpha=alphas[np.argmax(test_scores)])\n",
        "pruned_dTree.fit(x_train, y_train)\n",
        "ytpred_dTree = pruned_dTree.predict(x_test)\n",
        "from sklearn.metrics import classification_report\n",
        "print(classification_report(y_test, ytpred_dTree))\n",
        "ac_pdtree=accuracy_score(y_test,ytpred_dTree)\n",
        "print(\"test accuracy = {} %\",format(ac_pdtree*100))"
      ],
      "execution_count": 72,
      "outputs": [
        {
          "output_type": "stream",
          "text": [
            "max f1 test_score = 0.9736842105263158\n",
            "position of max f1 = 2\n",
            "              precision    recall  f1-score   support\n",
            "\n",
            "           0       0.94      0.91      0.93        34\n",
            "           1       0.93      0.95      0.94        42\n",
            "\n",
            "    accuracy                           0.93        76\n",
            "   macro avg       0.93      0.93      0.93        76\n",
            "weighted avg       0.93      0.93      0.93        76\n",
            "\n",
            "test accuracy = {} % 93.42105263157895\n"
          ],
          "name": "stdout"
        }
      ]
    },
    {
      "cell_type": "code",
      "metadata": {
        "id": "4JLw5-SKI32C",
        "trusted": true,
        "colab": {
          "base_uri": "https://localhost:8080/"
        },
        "outputId": "3418cc05-b633-4281-c470-d4c12433da9e"
      },
      "source": [
        "Dtree_probs = pruned_dTree.predict_proba(x_test)\n",
        "Dtree_probs = Dtree_probs[:, 1]\n",
        "Dtree_auc = roc_auc_score(y_test, Dtree_probs)\n",
        "print('DTree: ROC AUC= {} %'.format(round(Dtree_auc, 3)*100))"
      ],
      "execution_count": 73,
      "outputs": [
        {
          "output_type": "stream",
          "text": [
            "DTree: ROC AUC= 94.39999999999999 %\n"
          ],
          "name": "stdout"
        }
      ]
    },
    {
      "cell_type": "code",
      "metadata": {
        "id": "-93OTRSFJOU1",
        "trusted": true,
        "colab": {
          "base_uri": "https://localhost:8080/",
          "height": 497
        },
        "outputId": "1776023f-2374-4f9a-f896-fef36f1acc65"
      },
      "source": [
        "fig, ax = plt.subplots(figsize=(10, 8))\n",
        "Dtree_fpr, Dtree_tpr, Dtree_thres = roc_curve(y_test, Dtree_probs)\n",
        "ax.plot(Dtree_fpr, Dtree_tpr, marker='.', label='DTree')\n",
        "plt.xlabel('False Positive Rate')\n",
        "plt.ylabel('True Positive Rate')\n",
        "plt.legend(loc=5)\n",
        "plt.show()"
      ],
      "execution_count": 74,
      "outputs": [
        {
          "output_type": "display_data",
          "data": {
            "image/png": "[encoded data removed]",
            "text/plain": [
              "<Figure size 720x576 with 1 Axes>"
            ]
          },
          "metadata": {
            "tags": [],
            "needs_background": "light"
          }
        }
      ]
    },
    {
      "cell_type": "markdown",
      "metadata": {
        "id": "JOnGYAB4kNlO"
      },
      "source": [
        "#Random forest"
      ]
    },
    {
      "cell_type": "code",
      "metadata": {
        "id": "Ow9iLUGRkPV_",
        "trusted": true,
        "colab": {
          "base_uri": "https://localhost:8080/"
        },
        "outputId": "91cb5d39-5ea7-4812-c69c-f4446d414864"
      },
      "source": [
        "from sklearn.ensemble import RandomForestClassifier\n",
        "rf = RandomForestClassifier(n_estimators=1000)\n",
        "rf.fit(x_train, y_train)"
      ],
      "execution_count": 75,
      "outputs": [
        {
          "output_type": "execute_result",
          "data": {
            "text/plain": [
              "RandomForestClassifier(bootstrap=True, ccp_alpha=0.0, class_weight=None,\n",
              "                       criterion='gini', max_depth=None, max_features='auto',\n",
              "                       max_leaf_nodes=None, max_samples=None,\n",
              "                       min_impurity_decrease=0.0, min_impurity_split=None,\n",
              "                       min_samples_leaf=1, min_samples_split=2,\n",
              "                       min_weight_fraction_leaf=0.0, n_estimators=1000,\n",
              "                       n_jobs=None, oob_score=False, random_state=None,\n",
              "                       verbose=0, warm_start=False)"
            ]
          },
          "metadata": {
            "tags": []
          },
          "execution_count": 75
        }
      ]
    },
    {
      "cell_type": "code",
      "metadata": {
        "id": "coDvDRmAkStv",
        "trusted": true,
        "colab": {
          "base_uri": "https://localhost:8080/"
        },
        "outputId": "04eb48b4-e6e2-4f97-e1a7-f9e52973debe"
      },
      "source": [
        "y_pred_RF= rf.predict(x_test)\n",
        "from sklearn.metrics import classification_report\n",
        "print(classification_report(y_test, y_pred_RF))\n",
        "ac_rf=accuracy_score(y_test,y_pred_RF)\n",
        "print(\"test accuracy = {} %\",format(ac_rf*100))"
      ],
      "execution_count": 76,
      "outputs": [
        {
          "output_type": "stream",
          "text": [
            "              precision    recall  f1-score   support\n",
            "\n",
            "           0       0.97      0.97      0.97        34\n",
            "           1       0.98      0.98      0.98        42\n",
            "\n",
            "    accuracy                           0.97        76\n",
            "   macro avg       0.97      0.97      0.97        76\n",
            "weighted avg       0.97      0.97      0.97        76\n",
            "\n",
            "test accuracy = {} % 97.36842105263158\n"
          ],
          "name": "stdout"
        }
      ]
    },
    {
      "cell_type": "code",
      "metadata": {
        "id": "2A68fthPqBjZ",
        "trusted": true,
        "colab": {
          "base_uri": "https://localhost:8080/"
        },
        "outputId": "24005567-ad48-4b62-aaa0-3d84ef7cedd7"
      },
      "source": [
        "print('Random forest Training Accuracy:',rf.score(x_train, y_train))\n",
        "print('Random forest Test Accuracy:', rf.score(x_test, y_test))\n",
        "print(\"************************************************************************\")\n",
        "print(classification_report(y_test,y_pred_RF))\n",
        "print(\"************************************************************************\")\n",
        "print(y_pred_RF)"
      ],
      "execution_count": 77,
      "outputs": [
        {
          "output_type": "stream",
          "text": [
            "Random forest Training Accuracy: 1.0\n",
            "Random forest Test Accuracy: 0.9736842105263158\n",
            "************************************************************************\n",
            "              precision    recall  f1-score   support\n",
            "\n",
            "           0       0.97      0.97      0.97        34\n",
            "           1       0.98      0.98      0.98        42\n",
            "\n",
            "    accuracy                           0.97        76\n",
            "   macro avg       0.97      0.97      0.97        76\n",
            "weighted avg       0.97      0.97      0.97        76\n",
            "\n",
            "************************************************************************\n",
            "[1 0 0 1 1 1 0 0 1 1 0 0 0 0 0 0 1 0 1 1 1 1 1 0 1 0 1 0 1 1 1 0 0 0 1 0 1\n",
            " 1 0 1 1 0 0 1 1 1 0 0 1 1 0 0 1 1 0 0 1 0 1 0 1 1 0 1 0 0 1 1 1 1 1 0 0 1\n",
            " 1 1]\n"
          ],
          "name": "stdout"
        }
      ]
    },
    {
      "cell_type": "code",
      "metadata": {
        "id": "XdVptoH0KDwx",
        "trusted": true,
        "colab": {
          "base_uri": "https://localhost:8080/"
        },
        "outputId": "9c95c378-1754-4a8b-d4d9-f56ba7c47252"
      },
      "source": [
        "rf_probs = rf.predict_proba(x_test)\n",
        "rf_probs = rf_probs[:, 1]\n",
        "rf_auc = roc_auc_score(y_test, rf_probs)\n",
        "print('Random Forest: ROC AUC= {} %'.format(round(rf_auc, 3)*100))"
      ],
      "execution_count": 78,
      "outputs": [
        {
          "output_type": "stream",
          "text": [
            "Random Forest: ROC AUC= 99.2 %\n"
          ],
          "name": "stdout"
        }
      ]
    },
    {
      "cell_type": "code",
      "metadata": {
        "id": "YDt_xFDSKK8q",
        "trusted": true,
        "colab": {
          "base_uri": "https://localhost:8080/",
          "height": 497
        },
        "outputId": "cf9e51da-34e2-4f3f-d361-7f6c1a19d8ba"
      },
      "source": [
        "rf_fpr, rf_tpr, rf_thres = roc_curve(y_test, rf_probs)\n",
        "fig, ax = plt.subplots(figsize=(10, 8))\n",
        "ax.plot(logreg_fpr, logreg_tpr, marker='.', label='Logistic')\n",
        "ax.plot(Knn_fpr, Knn_tpr, marker='.', label='KNN')\n",
        "ax.plot(Dtree_fpr, Dtree_tpr, marker='.', label='DTree')\n",
        "ax.plot(rf_fpr, rf_tpr, marker='.', label='Random Forest')\n",
        "plt.xlabel('False Positive Rate')\n",
        "plt.ylabel('True Positive Rate')\n",
        "plt.legend(loc=5)\n",
        "plt.show()"
      ],
      "execution_count": 79,
      "outputs": [
        {
          "output_type": "display_data",
          "data": {
            "image/png": "[encoded data removed]",
            "text/plain": [
              "<Figure size 720x576 with 1 Axes>"
            ]
          },
          "metadata": {
            "tags": [],
            "needs_background": "light"
          }
        }
      ]
    },
    {
      "cell_type": "markdown",
      "metadata": {
        "id": "CXDCzYb9vkQM"
      },
      "source": [
        "# Ensembles"
      ]
    },
    {
      "cell_type": "markdown",
      "metadata": {
        "id": "7wtO-8XmyqrO"
      },
      "source": [
        "# Random forest and logistic regression"
      ]
    },
    {
      "cell_type": "code",
      "metadata": {
        "id": "DWwF6YAFlmRP",
        "trusted": true,
        "colab": {
          "base_uri": "https://localhost:8080/"
        },
        "outputId": "0947d987-4fcf-4574-8a6c-7b36095b7d4b"
      },
      "source": [
        "from sklearn.preprocessing import OneHotEncoder\n",
        "X_train, X_train_lr, Y_train, Y_train_lr = train_test_split(x_train, y_train, test_size=0.25,random_state=2,shuffle = True)\n",
        "rf = RandomForestClassifier(n_estimators=1000)\n",
        "rf.fit(x_train, y_train)\n",
        "rf_enc = OneHotEncoder()\n",
        "rf_enc.fit(rf.apply(x_train))\n",
        "rf_enc"
      ],
      "execution_count": 80,
      "outputs": [
        {
          "output_type": "execute_result",
          "data": {
            "text/plain": [
              "OneHotEncoder(categories='auto', drop=None, dtype=<class 'numpy.float64'>,\n",
              "              handle_unknown='error', sparse=True)"
            ]
          },
          "metadata": {
            "tags": []
          },
          "execution_count": 80
        }
      ]
    },
    {
      "cell_type": "code",
      "metadata": {
        "id": "s3EUkEOZl4E1",
        "trusted": true,
        "colab": {
          "base_uri": "https://localhost:8080/"
        },
        "outputId": "f07e35aa-df1f-487b-e461-43fcf886fb75"
      },
      "source": [
        "f = rf_enc.transform(rf.apply(X_train_lr))\n",
        "f.shape"
      ],
      "execution_count": 81,
      "outputs": [
        {
          "output_type": "execute_result",
          "data": {
            "text/plain": [
              "(45, 20624)"
            ]
          },
          "metadata": {
            "tags": []
          },
          "execution_count": 81
        }
      ]
    },
    {
      "cell_type": "code",
      "metadata": {
        "id": "jX1KT7url-FK",
        "trusted": true,
        "colab": {
          "base_uri": "https://localhost:8080/"
        },
        "outputId": "3a57dbb7-56d1-40cb-f85f-bbdb6276121f"
      },
      "source": [
        "fold = StratifiedKFold(n_splits=5, random_state=1, shuffle = True)\n",
        "fold.get_n_splits(X_train_lr, Y_train_lr)\n",
        "\n",
        "parameters = {'solver':('liblinear', 'sag'), 'C':[0.001]}\n",
        "\n",
        "model_rflr = LogisticRegression(penalty='l2', n_jobs = -2, max_iter=1000)\n",
        "rf_lr = GridSearchCV(model_rflr, parameters, n_jobs= -2, cv=fold)\n",
        "\n",
        "\n",
        "rf_lr.fit(rf_enc.transform(rf.apply(X_train_lr)), Y_train_lr)\n",
        "\n",
        "print(rf_lr.best_params_)"
      ],
      "execution_count": 82,
      "outputs": [
        {
          "output_type": "stream",
          "text": [
            "{'C': 0.001, 'solver': 'liblinear'}\n"
          ],
          "name": "stdout"
        }
      ]
    },
    {
      "cell_type": "code",
      "metadata": {
        "id": "Y5_RKj3Pto6F",
        "trusted": true
      },
      "source": [
        "ypred_rf_lr=rf_lr.predict(rf_enc.transform(rf.apply(x_test)))"
      ],
      "execution_count": 83,
      "outputs": []
    },
    {
      "cell_type": "code",
      "metadata": {
        "id": "htoOFVVnsytm",
        "trusted": true,
        "colab": {
          "base_uri": "https://localhost:8080/"
        },
        "outputId": "f6aacb42-564d-47c0-df32-5e34d101d82e"
      },
      "source": [
        "from sklearn.metrics import f1_score\n",
        "print(f1_score(ypred_rf_lr,y_test))\n",
        "ac_rf_lr=accuracy_score(ypred_rf_lr,y_test)\n",
        "print(\"test accuracy = {} %\",format(ac_rf*100))"
      ],
      "execution_count": 84,
      "outputs": [
        {
          "output_type": "stream",
          "text": [
            "0.9761904761904762\n",
            "test accuracy = {} % 97.36842105263158\n"
          ],
          "name": "stdout"
        }
      ]
    },
    {
      "cell_type": "code",
      "metadata": {
        "id": "yQ9_1_4ZSqAc",
        "trusted": true,
        "colab": {
          "base_uri": "https://localhost:8080/",
          "height": 514
        },
        "outputId": "4a24102d-8cea-4dc8-8dfb-c93b1cacf97f"
      },
      "source": [
        "yprobs_rf_lr = rf_lr.predict_proba(rf_enc.transform(rf.apply(x_test)))\n",
        "yprobs_rf_lr= yprobs_rf_lr[:, 1]\n",
        "rf_lr_auc = roc_auc_score(y_test, yprobs_rf_lr)\n",
        "print('Logistic and Random Forest: ROC AUC= {} %'.format(round(rf_lr_auc, 3)*100))\n",
        "fpr_rf_lr, tpr_rf_lr, thres_rf_lr = roc_curve(y_test, yprobs_rf_lr)\n",
        "fig, ax = plt.subplots(figsize=(10, 8))\n",
        "ax.plot(fpr_rf_lr, tpr_rf_lr, marker='.', label='Random Forest+logReg')\n",
        "plt.xlabel('False Positive Rate')\n",
        "plt.ylabel('True Positive Rate')\n",
        "plt.legend(loc=5)\n",
        "plt.show()"
      ],
      "execution_count": 85,
      "outputs": [
        {
          "output_type": "stream",
          "text": [
            "Logistic and Random Forest: ROC AUC= 99.1 %\n"
          ],
          "name": "stdout"
        },
        {
          "output_type": "display_data",
          "data": {
            "image/png": "[encoded data removed]",
            "text/plain": [
              "<Figure size 720x576 with 1 Axes>"
            ]
          },
          "metadata": {
            "tags": [],
            "needs_background": "light"
          }
        }
      ]
    },
    {
      "cell_type": "markdown",
      "metadata": {
        "id": "oaOVptvyy7Zv"
      },
      "source": [
        "#Random forest with knn"
      ]
    },
    {
      "cell_type": "code",
      "metadata": {
        "id": "uEOHstb_y7Ie",
        "trusted": true,
        "colab": {
          "base_uri": "https://localhost:8080/"
        },
        "outputId": "479e083a-f659-4517-aa69-6d76844fd192"
      },
      "source": [
        "f_scorer = make_scorer(fbeta_score,beta=1,pos_label=1)\n",
        "params={\"n_neighbors\":[1,10,20,36]}\n",
        "model_rfKNN=KNeighborsClassifier(algorithm=\"brute\")\n",
        "rf_KNN= GridSearchCV(model_rfKNN,params,n_jobs=-2,cv=fold,scoring=f_scorer,verbose=True)\n",
        "rf_KNN.fit(rf_enc.transform(rf.apply(X_train_lr)), Y_train_lr)\n",
        "print(rf_KNN.best_params_)"
      ],
      "execution_count": 86,
      "outputs": [
        {
          "output_type": "stream",
          "text": [
            "Fitting 5 folds for each of 4 candidates, totalling 20 fits\n",
            "{'n_neighbors': 1}\n"
          ],
          "name": "stdout"
        },
        {
          "output_type": "stream",
          "text": [
            "[Parallel(n_jobs=-2)]: Using backend SequentialBackend with 1 concurrent workers.\n",
            "[Parallel(n_jobs=-2)]: Done  20 out of  20 | elapsed:    0.1s finished\n"
          ],
          "name": "stderr"
        }
      ]
    },
    {
      "cell_type": "code",
      "metadata": {
        "id": "9V5hpnVI1Tde",
        "trusted": true
      },
      "source": [
        "ypred_rf_KNN=rf_KNN.predict(rf_enc.transform(rf.apply(x_test)))"
      ],
      "execution_count": 87,
      "outputs": []
    },
    {
      "cell_type": "code",
      "metadata": {
        "id": "MIEma3V91tBi",
        "trusted": true,
        "colab": {
          "base_uri": "https://localhost:8080/"
        },
        "outputId": "e5219303-e3e0-4b08-ea5b-c5617d107ff3"
      },
      "source": [
        "from sklearn.metrics import f1_score\n",
        "print(f1_score(ypred_rf_KNN,y_test))\n",
        "ac_rf_KNN=accuracy_score(ypred_rf_KNN,y_test)\n",
        "print(\"test accuracy = {} %\",format(ac_rf*100))"
      ],
      "execution_count": 88,
      "outputs": [
        {
          "output_type": "stream",
          "text": [
            "0.9761904761904762\n",
            "test accuracy = {} % 97.36842105263158\n"
          ],
          "name": "stdout"
        }
      ]
    },
    {
      "cell_type": "code",
      "metadata": {
        "id": "uKNUd9CbkqUy",
        "trusted": true,
        "colab": {
          "base_uri": "https://localhost:8080/",
          "height": 514
        },
        "outputId": "af50b699-c2cc-41fb-ee8b-7598fc3cf138"
      },
      "source": [
        "yprobs_rf_KNN = rf_KNN.predict_proba(rf_enc.transform(rf.apply(x_test)))\n",
        "yprobs_rf_KNN= yprobs_rf_KNN[:, 1]\n",
        "rf_KNN_auc = roc_auc_score(y_test, yprobs_rf_KNN)\n",
        "print('KNN and Random Forest: ROC AUC= {} %'.format(round(rf_KNN_auc, 3)*100))\n",
        "fpr_rf_KNN, tpr_rf_KNN, thres_rf_KNN = roc_curve(y_test, yprobs_rf_KNN)\n",
        "fig, ax = plt.subplots(figsize=(10, 8))\n",
        "ax.plot(fpr_rf_KNN, tpr_rf_KNN, marker='.', label='Random Forest+KNN')\n",
        "plt.xlabel('False Positive Rate')\n",
        "plt.ylabel('True Positive Rate')\n",
        "plt.legend(loc=5)\n",
        "plt.show()"
      ],
      "execution_count": 89,
      "outputs": [
        {
          "output_type": "stream",
          "text": [
            "KNN and Random Forest: ROC AUC= 97.3 %\n"
          ],
          "name": "stdout"
        },
        {
          "output_type": "display_data",
          "data": {
            "image/png": "[encoded data removed]",
            "text/plain": [
              "<Figure size 720x576 with 1 Axes>"
            ]
          },
          "metadata": {
            "tags": [],
            "needs_background": "light"
          }
        }
      ]
    },
    {
      "cell_type": "markdown",
      "metadata": {
        "id": "aOzS5rsf1_r6"
      },
      "source": [
        "#Random forest with decision tree"
      ]
    },
    {
      "cell_type": "code",
      "metadata": {
        "id": "RydPvERy1zHQ",
        "trusted": true,
        "colab": {
          "base_uri": "https://localhost:8080/"
        },
        "outputId": "a6977358-5327-45f0-c57b-9dd3d543505e"
      },
      "source": [
        "model_rfdtree= DecisionTreeClassifier(criterion=\"gini\")\n",
        "params={}\n",
        "rf_dtree= GridSearchCV(model_rfdtree,params,n_jobs=-2,cv=fold,verbose=True)\n",
        "rf_dtree.fit(rf_enc.transform(rf.apply(X_train_lr)), Y_train_lr)"
      ],
      "execution_count": 90,
      "outputs": [
        {
          "output_type": "stream",
          "text": [
            "Fitting 5 folds for each of 1 candidates, totalling 5 fits\n"
          ],
          "name": "stdout"
        },
        {
          "output_type": "stream",
          "text": [
            "[Parallel(n_jobs=-2)]: Using backend SequentialBackend with 1 concurrent workers.\n",
            "[Parallel(n_jobs=-2)]: Done   5 out of   5 | elapsed:    0.0s finished\n"
          ],
          "name": "stderr"
        },
        {
          "output_type": "execute_result",
          "data": {
            "text/plain": [
              "GridSearchCV(cv=StratifiedKFold(n_splits=5, random_state=1, shuffle=True),\n",
              "             error_score=nan,\n",
              "             estimator=DecisionTreeClassifier(ccp_alpha=0.0, class_weight=None,\n",
              "                                              criterion='gini', max_depth=None,\n",
              "                                              max_features=None,\n",
              "                                              max_leaf_nodes=None,\n",
              "                                              min_impurity_decrease=0.0,\n",
              "                                              min_impurity_split=None,\n",
              "                                              min_samples_leaf=1,\n",
              "                                              min_samples_split=2,\n",
              "                                              min_weight_fraction_leaf=0.0,\n",
              "                                              presort='deprecated',\n",
              "                                              random_state=None,\n",
              "                                              splitter='best'),\n",
              "             iid='deprecated', n_jobs=-2, param_grid={},\n",
              "             pre_dispatch='2*n_jobs', refit=True, return_train_score=False,\n",
              "             scoring=None, verbose=True)"
            ]
          },
          "metadata": {
            "tags": []
          },
          "execution_count": 90
        }
      ]
    },
    {
      "cell_type": "code",
      "metadata": {
        "id": "FjuCEieP3Gih",
        "trusted": true
      },
      "source": [
        "ypred_rf_dtree=rf_dtree.predict(rf_enc.transform(rf.apply(x_test)))\n",
        "ypred_rf_dtree_test=rf_dtree.predict(rf_enc.transform(rf.apply(data_test)))"
      ],
      "execution_count": 91,
      "outputs": []
    },
    {
      "cell_type": "code",
      "metadata": {
        "id": "JEzsSqLD31mW",
        "trusted": true,
        "colab": {
          "base_uri": "https://localhost:8080/"
        },
        "outputId": "b133bd13-d965-4b49-de0e-f777a53f285a"
      },
      "source": [
        "from sklearn.metrics import f1_score\n",
        "print(f1_score(ypred_rf_dtree,y_test))\n",
        "ac_rf_dtree=accuracy_score(ypred_rf_dtree,y_test)\n",
        "print(\"test accuracy = {} %\",format(ac_rf*100))"
      ],
      "execution_count": 92,
      "outputs": [
        {
          "output_type": "stream",
          "text": [
            "0.8723404255319148\n",
            "test accuracy = {} % 97.36842105263158\n"
          ],
          "name": "stdout"
        }
      ]
    },
    {
      "cell_type": "code",
      "metadata": {
        "id": "GVfZYFCEldxs",
        "trusted": true,
        "colab": {
          "base_uri": "https://localhost:8080/",
          "height": 514
        },
        "outputId": "13284143-ff35-47ba-aef7-33b0949a8916"
      },
      "source": [
        "yprobs_rf_dtree = rf_dtree.predict_proba(rf_enc.transform(rf.apply(x_test)))\n",
        "yprobs_rf_dtree= yprobs_rf_dtree[:, 1]\n",
        "rf_dtree_auc = roc_auc_score(y_test, yprobs_rf_dtree)\n",
        "print('dtree and Random Forest: ROC AUC= {} %'.format(round(rf_dtree_auc, 3)*100))\n",
        "fpr_rf_dtree, tpr_rf_dtree, thres_rf_dtree = roc_curve(y_test, yprobs_rf_dtree)\n",
        "fig, ax = plt.subplots(figsize=(10, 8))\n",
        "ax.plot(fpr_rf_dtree, tpr_rf_dtree, marker='.', label='Random Forest+dtree')\n",
        "plt.xlabel('False Positive Rate')\n",
        "plt.ylabel('True Positive Rate')\n",
        "plt.legend(loc=5)\n",
        "plt.show()"
      ],
      "execution_count": 93,
      "outputs": [
        {
          "output_type": "stream",
          "text": [
            "dtree and Random Forest: ROC AUC= 82.6 %\n"
          ],
          "name": "stdout"
        },
        {
          "output_type": "display_data",
          "data": {
            "image/png": "[encoded data removed]",
            "text/plain": [
              "<Figure size 720x576 with 1 Axes>"
            ]
          },
          "metadata": {
            "tags": [],
            "needs_background": "light"
          }
        }
      ]
    },
    {
      "cell_type": "code",
      "metadata": {
        "id": "hOmhHStBlyLE",
        "trusted": true
      },
      "source": [
        "yprobs_rf_dtree_test = rf_dtree.predict(rf_enc.transform(rf.apply(Z)))\n",
        "submission=pd.DataFrame({\"ID\":data_test[\"ID\"],\"Heart disease\":yprobs_rf_dtree_test})\n",
        "submission.to_csv(\"submission.csv\",index=False)"
      ],
      "execution_count": 94,
      "outputs": []
    },
    {
      "cell_type": "markdown",
      "metadata": {
        "id": "nte3NvOHCdxa"
      },
      "source": [
        "# Accuracy of all the models without ensembles"
      ]
    },
    {
      "cell_type": "code",
      "metadata": {
        "id": "EPgjKZi6ojKt",
        "trusted": true,
        "colab": {
          "base_uri": "https://localhost:8080/"
        },
        "outputId": "757e7a95-abec-4a81-d844-c69fb5a7f414"
      },
      "source": [
        "accuracy=[ac,ac_knn,ac_pdtree,ac_rf,ac_rf_lr,ac_rf_KNN,ac_rf_dtree]\n",
        "accuracy"
      ],
      "execution_count": 95,
      "outputs": [
        {
          "output_type": "execute_result",
          "data": {
            "text/plain": [
              "[0.9473684210526315,\n",
              " 0.8947368421052632,\n",
              " 0.9342105263157895,\n",
              " 0.9736842105263158,\n",
              " 0.9736842105263158,\n",
              " 0.9736842105263158,\n",
              " 0.8421052631578947]"
            ]
          },
          "metadata": {
            "tags": []
          },
          "execution_count": 95
        }
      ]
    },
    {
      "cell_type": "markdown",
      "metadata": {
        "id": "Z7fGa0gEG_zf"
      },
      "source": [
        "# Output csv"
      ]
    },
    {
      "cell_type": "code",
      "metadata": {
        "id": "SCmJFUFuG_Be",
        "trusted": true
      },
      "source": [
        "yprobs_rf_test = rf.predict(Z)\n",
        "submission=pd.DataFrame({\"ID\":data_test[\"ID\"],\"target\":yprobs_rf_test})\n",
        "submission.to_csv(\"submission.csv\",index=False)"
      ],
      "execution_count": 96,
      "outputs": []
    },
    {
      "cell_type": "code",
      "metadata": {
        "id": "tF3C1feRHfcT",
        "trusted": true,
        "colab": {
          "base_uri": "https://localhost:8080/",
          "height": 357
        },
        "outputId": "acd4b47e-8ebf-468d-c430-b59d1855f4f0"
      },
      "source": [
        "output=pd.read_csv(\"submission.csv\",index_col=False)\n",
        "output.head(10)"
      ],
      "execution_count": 97,
      "outputs": [
        {
          "output_type": "execute_result",
          "data": {
            "text/html": [
              "<div>\n",
              "<style scoped>\n",
              "    .dataframe tbody tr th:only-of-type {\n",
              "        vertical-align: middle;\n",
              "    }\n",
              "\n",
              "    .dataframe tbody tr th {\n",
              "        vertical-align: top;\n",
              "    }\n",
              "\n",
              "    .dataframe thead th {\n",
              "        text-align: right;\n",
              "    }\n",
              "</style>\n",
              "<table border=\"1\" class=\"dataframe\">\n",
              "  <thead>\n",
              "    <tr style=\"text-align: right;\">\n",
              "      <th></th>\n",
              "      <th>ID</th>\n",
              "      <th>target</th>\n",
              "    </tr>\n",
              "  </thead>\n",
              "  <tbody>\n",
              "    <tr>\n",
              "      <th>0</th>\n",
              "      <td>128</td>\n",
              "      <td>1</td>\n",
              "    </tr>\n",
              "    <tr>\n",
              "      <th>1</th>\n",
              "      <td>232</td>\n",
              "      <td>0</td>\n",
              "    </tr>\n",
              "    <tr>\n",
              "      <th>2</th>\n",
              "      <td>220</td>\n",
              "      <td>0</td>\n",
              "    </tr>\n",
              "    <tr>\n",
              "      <th>3</th>\n",
              "      <td>184</td>\n",
              "      <td>0</td>\n",
              "    </tr>\n",
              "    <tr>\n",
              "      <th>4</th>\n",
              "      <td>25</td>\n",
              "      <td>1</td>\n",
              "    </tr>\n",
              "    <tr>\n",
              "      <th>5</th>\n",
              "      <td>56</td>\n",
              "      <td>1</td>\n",
              "    </tr>\n",
              "    <tr>\n",
              "      <th>6</th>\n",
              "      <td>28</td>\n",
              "      <td>1</td>\n",
              "    </tr>\n",
              "    <tr>\n",
              "      <th>7</th>\n",
              "      <td>125</td>\n",
              "      <td>1</td>\n",
              "    </tr>\n",
              "    <tr>\n",
              "      <th>8</th>\n",
              "      <td>139</td>\n",
              "      <td>1</td>\n",
              "    </tr>\n",
              "    <tr>\n",
              "      <th>9</th>\n",
              "      <td>67</td>\n",
              "      <td>1</td>\n",
              "    </tr>\n",
              "  </tbody>\n",
              "</table>\n",
              "</div>"
            ],
            "text/plain": [
              "    ID  target\n",
              "0  128       1\n",
              "1  232       0\n",
              "2  220       0\n",
              "3  184       0\n",
              "4   25       1\n",
              "5   56       1\n",
              "6   28       1\n",
              "7  125       1\n",
              "8  139       1\n",
              "9   67       1"
            ]
          },
          "metadata": {
            "tags": []
          },
          "execution_count": 97
        }
      ]
    }
  ]
}